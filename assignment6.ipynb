{
  "nbformat": 4,
  "nbformat_minor": 0,
  "metadata": {
    "colab": {
      "provenance": [],
      "authorship_tag": "ABX9TyNuCTgugi8K6/LUx4d9v1vt",
      "include_colab_link": true
    },
    "kernelspec": {
      "name": "python3",
      "display_name": "Python 3"
    },
    "language_info": {
      "name": "python"
    }
  },
  "cells": [
    {
      "cell_type": "markdown",
      "metadata": {
        "id": "view-in-github",
        "colab_type": "text"
      },
      "source": [
        "<a href=\"https://colab.research.google.com/github/aplum004/CSC221_aplum004/blob/main/assignment6.ipynb\" target=\"_parent\"><img src=\"https://colab.research.google.com/assets/colab-badge.svg\" alt=\"Open In Colab\"/></a>"
      ]
    },
    {
      "cell_type": "code",
      "execution_count": null,
      "metadata": {
        "colab": {
          "base_uri": "https://localhost:8080/"
        },
        "id": "B4o1WsfDNHHB",
        "outputId": "2fb3a396-aa41-4166-a651-7a987eff5c5c"
      },
      "outputs": [
        {
          "output_type": "stream",
          "name": "stdout",
          "text": [
            "Is candy == 'snickers'\n",
            "True\n",
            "Is candy == 'beer'\n",
            "False\n",
            "\n",
            "Is age == 10\n",
            "True\n",
            "Is age == 9\n",
            "False\n",
            "\n",
            "Is zodic == 'aqaurius\n",
            "True\n",
            "Is zodic == 'gemini\n",
            "False\n",
            "\n",
            "Is age == 10\n",
            "True\n",
            "Is age == 9\n",
            "False\n",
            "\n",
            "Is phone == ' samsung\n",
            "True\n",
            "Is phone == 'apple'\n",
            "False\n"
          ]
        }
      ],
      "source": [
        "candy = 'snickers'\n",
        "print(\"Is candy == 'snickers'\")\n",
        "print(candy == 'snickers')\n",
        "\n",
        "print(\"Is candy == 'beer'\")\n",
        "print(candy == 'beer')\n",
        "\n",
        "age = 10\n",
        "print(\"\\nIs age == 10\")\n",
        "print(age == 10)\n",
        "print(\"Is age == 9\")\n",
        "print(age == 9)\n",
        "\n",
        "zodic = 'aquarius'\n",
        "print(\"\\nIs zodic == 'aqaurius\")\n",
        "print(zodic == 'aquarius')\n",
        "print(\"Is zodic == 'gemini\")\n",
        "print(zodic == 'gemini')\n",
        "\n",
        "cake = 'vanilla'\n",
        "print(\"\\nIs age == 10\")\n",
        "print(age == 10)\n",
        "print(\"Is age == 9\")\n",
        "print(age == 9)\n",
        "\n",
        "phone = 'samsung'\n",
        "print(\"\\nIs phone == ' samsung\")\n",
        "print(phone == 'samsung')\n",
        "print(\"Is phone == 'apple'\")\n",
        "print(phone == 'apple')"
      ]
    },
    {
      "cell_type": "code",
      "source": [
        "phone = 'samsung'\n",
        "if phone != 'apple':\n",
        " print(\"False\")\n",
        "if phone == 'samsung':\n",
        "  print(\"True\")\n",
        "\n",
        "age_1 = 19\n",
        "age_2 = 30\n",
        "age_1 >= 45 and age_2 >= 45\n",
        "age_1 <= 32 or age_2 >= 12\n",
        "\n"
      ],
      "metadata": {
        "colab": {
          "base_uri": "https://localhost:8080/"
        },
        "id": "5qkme9KR_5LT",
        "outputId": "827938b2-2eb1-455b-be08-58e24e54f53f"
      },
      "execution_count": null,
      "outputs": [
        {
          "output_type": "stream",
          "name": "stdout",
          "text": [
            "False\n",
            "True\n"
          ]
        },
        {
          "output_type": "execute_result",
          "data": {
            "text/plain": [
              "True"
            ]
          },
          "metadata": {},
          "execution_count": 13
        }
      ]
    },
    {
      "cell_type": "code",
      "source": [
        "candy = ['snickers', 'gum']\n",
        "print('gum' in candy)"
      ],
      "metadata": {
        "colab": {
          "base_uri": "https://localhost:8080/"
        },
        "id": "VA99nlFOLzqT",
        "outputId": "7c95249c-dd0e-404f-f90b-79c79cd3cf29"
      },
      "execution_count": null,
      "outputs": [
        {
          "output_type": "stream",
          "name": "stdout",
          "text": [
            "True\n"
          ]
        }
      ]
    },
    {
      "cell_type": "code",
      "source": [
        "alien_color = 'green'\n",
        "if alien_color == 'green':\n",
        "  print(\"you just earned 5 points\")\n",
        "\n",
        "alien_color2 = 'red'\n",
        "if alien_color2 == 'green':\n",
        "  print(\"you just earned 5 points\")\n"
      ],
      "metadata": {
        "colab": {
          "base_uri": "https://localhost:8080/"
        },
        "id": "GKuM7muiS-Vp",
        "outputId": "1a7b9ea3-f702-414c-e758-1ea06345d70f"
      },
      "execution_count": null,
      "outputs": [
        {
          "output_type": "stream",
          "name": "stdout",
          "text": [
            "you just earned 5 points\n"
          ]
        }
      ]
    },
    {
      "cell_type": "code",
      "source": [
        "person = 185\n",
        "if person < 2:\n",
        "  print(\"This person is a baby\")\n",
        "elif person < 4:\n",
        "  print(\"This person is a toddler\")\n",
        "elif person < 13:\n",
        "  print(\"This person is a kid \")\n",
        "elif person < 20:\n",
        "  print(\"This person is a teenager\")\n",
        "elif person < 65:\n",
        "  print(\"This person is an adult\")\n",
        "elif person > 65:\n",
        "  print(\"This person is an elder\")"
      ],
      "metadata": {
        "colab": {
          "base_uri": "https://localhost:8080/"
        },
        "id": "joynBqWckCAS",
        "outputId": "2a3cd4dc-7c7f-4c39-d16b-6a8ccedc2e83"
      },
      "execution_count": null,
      "outputs": [
        {
          "output_type": "stream",
          "name": "stdout",
          "text": [
            "This person is an elder\n"
          ]
        }
      ]
    },
    {
      "cell_type": "code",
      "source": [
        "games = ['sims', '2k24', 'GTA5']\n",
        "new = []\n",
        "input(\"Enter a game: \")\n",
        "for game in games:\n",
        "  if game in new:\n",
        "    print(\"Same ole, same ole\")\n",
        "  else:\n",
        "    new.append(game)\n",
        "    print(\"New and Improve Games\")\n",
        "\n",
        "  print(\"Updated 'new' list:\", new)"
      ],
      "metadata": {
        "id": "o0Cccerv-dV8"
      },
      "execution_count": null,
      "outputs": []
    }
  ]
}