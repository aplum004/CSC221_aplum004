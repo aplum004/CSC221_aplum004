{
  "nbformat": 4,
  "nbformat_minor": 0,
  "metadata": {
    "colab": {
      "provenance": [],
      "include_colab_link": true
    },
    "kernelspec": {
      "name": "python3",
      "display_name": "Python 3"
    },
    "language_info": {
      "name": "python"
    }
  },
  "cells": [
    {
      "cell_type": "markdown",
      "metadata": {
        "id": "view-in-github",
        "colab_type": "text"
      },
      "source": [
        "<a href=\"https://colab.research.google.com/github/aplum004/CSC221_aplum004/blob/main/Assignment20.ipynb\" target=\"_parent\"><img src=\"https://colab.research.google.com/assets/colab-badge.svg\" alt=\"Open In Colab\"/></a>"
      ]
    },
    {
      "cell_type": "markdown",
      "source": [
        "# Assignment 20\n",
        "## CSC 221\n",
        "- Akeilah Plummer\n",
        "\n",
        "### Instructions:\n",
        "Fill in each code cell below the question. We are following along in Chapter 4 of Python Distilled."
      ],
      "metadata": {
        "id": "IAOUzGWE1eDx"
      }
    },
    {
      "cell_type": "code",
      "execution_count": null,
      "metadata": {
        "id": "Gnj3su7i5-lx",
        "colab": {
          "base_uri": "https://localhost:8080/"
        },
        "outputId": "40bf34bf-2970-4d26-f986-6806fd060e17"
      },
      "outputs": [
        {
          "output_type": "stream",
          "name": "stdout",
          "text": [
            "19\n",
            "44.5\n",
            "asdfg13\n"
          ]
        }
      ],
      "source": [
        "# 4.1 Essential Concepts\n",
        "\n",
        "# When we write \"a + b\" in Python, the interpreter tries to execute a.__add__(b)\n",
        "\n",
        "# Show that this is true by trying the following:\n",
        "a = 6\n",
        "b = 31.5\n",
        "c = 'asdfg'\n",
        "a1 = a.__add__(13)\n",
        "b1 = b.__add__(13)\n",
        "c1 = c.__add__('13')\n",
        "print(a1)\n",
        "print(b1)\n",
        "print(c1)\n",
        "\n",
        "# What are the types of a, b, and c?\n",
        "'''\n",
        "A is an integer\n",
        "B is an float\n",
        "C is an string\n",
        "'''\n",
        "\n",
        "# Explain the results\n",
        "'''\n",
        "a.__add__ adds 13 to the value of a which is 19\n",
        "b.__add__ adds 13 to the value of b which is 44.5\n",
        "c.__add__ adds '13' to the value of c, and since c is a string it\n",
        "adds on to the existing value\n",
        "'''"
      ]
    },
    {
      "cell_type": "code",
      "source": [
        "# 4.2 through 4.4 will be covered in the next assignment\n"
      ],
      "metadata": {
        "id": "w2uYd3DO2do6"
      },
      "execution_count": null,
      "outputs": []
    },
    {
      "cell_type": "code",
      "source": [
        "# 4.5 str and repr\n",
        "# How many categpries of printing are shown below for a datetime object?\n",
        "#There are five categories\n",
        "# What in the Pythion code makes each one get callled?\n",
        "'''\n",
        "For a regular print function, print(d)\n",
        "For formatted string, print(f'{d})\n",
        "For formatted with !r, print (f'{d!r})\n",
        "For str function, print(str(d))\n",
        "For repr function, print(repr(d))\n",
        "'''\n",
        "\n",
        "from datetime import date\n",
        "d = date(2023, 11, 7)\n",
        "\n",
        "#print(d)\n",
        "#print(f'{d}')\n",
        "#print(f'{d!s}')\n",
        "#print(f'{d!r}')\n",
        "#print(str(d))\n",
        "#print(repr(d))\n",
        "#print(d.__str__())\n",
        "#print(d.__repr__())\n",
        "\n"
      ],
      "metadata": {
        "id": "Aa3ylzmV2wNF"
      },
      "execution_count": null,
      "outputs": []
    },
    {
      "cell_type": "code",
      "source": [
        "# 4.6 First-Class Objects\n",
        "# What is the significance of all objects being \"first-class\" in Python?\n",
        "#- The significance of all objects being first class is that they are treated like data\n",
        "# Explain by typing in the code to create and use the 'items' dictionary shown in section 4.6.\n",
        "import math\n",
        "items = {\n",
        "    'number' : 42,\n",
        "    'text' : \"Hello World\"\n",
        "}\n",
        "items['func'] = abs\n",
        "items['mod'] = math\n",
        "items['error'] = ValueError\n",
        "nums = [1, 2, 3, 4]\n",
        "items['append'] = nums.append\n",
        "# Explain each of the lines starting with '>>>' in the section.\n",
        "'''\n",
        "-items['func'][-45], executes abs(-45)\n",
        "-items ['mod'].sqrt(4), executes math.sqrt(4)\n",
        "-try:, tries x= int('a lot'), if error occurs prints 'couldnt convert'\n",
        "-items['append'](100) , executes nums.append(100)\n",
        "-nums, prints the list nums\n",
        "'''"
      ],
      "metadata": {
        "id": "9LRpP06Vsw6n"
      },
      "execution_count": 2,
      "outputs": []
    },
    {
      "cell_type": "code",
      "source": [
        "# 4.7 Using None\n",
        "# Write a function that takes two parameters and returns their sum if they are\n",
        "#  integers or returns None if either one is not.\n",
        "def func(x, y):\n",
        "  if isinstance(x,int) and isinstance(y, int):\n",
        "    return (x + y)\n",
        "  else:\n",
        "    return None\n",
        "\n",
        "# Put in some test code to show that your function works\n",
        "result = func(3,6)\n",
        "print(result)\n",
        "result2 = func(5,'nsn')\n",
        "print(result2)\n",
        "# INSERT YOUR CODE HERE"
      ],
      "metadata": {
        "id": "dUhRWGnCtewU",
        "outputId": "f15fca66-3398-4a4a-c88a-e93a81c6fb9f",
        "colab": {
          "base_uri": "https://localhost:8080/"
        }
      },
      "execution_count": 14,
      "outputs": [
        {
          "output_type": "stream",
          "name": "stdout",
          "text": [
            "9\n",
            "None\n"
          ]
        }
      ]
    },
    {
      "cell_type": "code",
      "source": [
        "# 4.9 Object Protocol\n",
        "# Create a simple object that has methods for:\n",
        "#  __new__\n",
        "#  __init__\n",
        "#  __del__\n",
        "#  __repr__\n",
        "#  __str__\n",
        "\n",
        "# Put in some test code to show how and when each of these 'magic' functions gets called.\n",
        "\n",
        "# INSERT YOUR CODE HERE\n",
        "class Object_Protocol():\n",
        "  def __new__(cls, *args, **kwargs):\n",
        "    print(\"__new__ function\")\n",
        "    new = super().__new__(cls)\n",
        "    return new\n",
        "\n",
        "  def __init__ (self, name, *args, **kwargs):\n",
        "    print(\"__init__ function\")\n",
        "    self.name = name\n",
        "\n",
        "  def __del__(self):\n",
        "    print(\"__del__ function\")\n",
        "\n",
        "  def __repr__(self):\n",
        "      return f\"SimpleObject(name='{self.name}')\"\n",
        "\n",
        "  def __str__(self):\n",
        "      return f\"SimpleObject(name='{self.name}')\"\n",
        "\n",
        "obj = Object_Protocol(\"Test\")\n",
        "print(repr(obj))\n",
        "print(str(obj))\n",
        "del obj"
      ],
      "metadata": {
        "id": "4M-CQevEt2xQ",
        "outputId": "ea38de34-4620-4b40-9d3d-59eca8d896f0",
        "colab": {
          "base_uri": "https://localhost:8080/"
        }
      },
      "execution_count": 26,
      "outputs": [
        {
          "output_type": "stream",
          "name": "stdout",
          "text": [
            "__new__ function\n",
            "__init__ function\n",
            "SimpleObject(name='Test')\n",
            "SimpleObject(name='Test')\n",
            "__del__ function\n"
          ]
        }
      ]
    }
  ]
}