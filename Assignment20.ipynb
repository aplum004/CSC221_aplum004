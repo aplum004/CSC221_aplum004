{
  "nbformat": 4,
  "nbformat_minor": 0,
  "metadata": {
    "colab": {
      "provenance": [],
      "authorship_tag": "ABX9TyPUhpHwrdTJRow48SZSuaWc",
      "include_colab_link": true
    },
    "kernelspec": {
      "name": "python3",
      "display_name": "Python 3"
    },
    "language_info": {
      "name": "python"
    }
  },
  "cells": [
    {
      "cell_type": "markdown",
      "metadata": {
        "id": "view-in-github",
        "colab_type": "text"
      },
      "source": [
        "<a href=\"https://colab.research.google.com/github/aplum004/CSC221_aplum004/blob/main/Assignment20.ipynb\" target=\"_parent\"><img src=\"https://colab.research.google.com/assets/colab-badge.svg\" alt=\"Open In Colab\"/></a>"
      ]
    },
    {
      "cell_type": "code",
      "execution_count": 4,
      "metadata": {
        "id": "GoZHT34FtyF-",
        "colab": {
          "base_uri": "https://localhost:8080/"
        },
        "outputId": "7ddd5137-88e4-41ac-eb0e-cc5e5c1ceb91"
      },
      "outputs": [
        {
          "output_type": "stream",
          "name": "stdout",
          "text": [
            "Original Vectors:\n",
            "(3, 4)\n",
            "(1, 2)\n",
            "(5, 1)\n",
            "\n",
            "Sorted Vectors (by length):\n",
            "(1, 2)\n",
            "(3, 4)\n",
            "(5, 1)\n"
          ]
        }
      ],
      "source": [
        "import math\n",
        "\n",
        "class Vector2D:\n",
        "    def __init__(self, x, y):\n",
        "        self.x = x\n",
        "        self.y = y\n",
        "\n",
        "    def __repr__(self):\n",
        "        return f\"Vector2D({self.x}, {self.y})\"\n",
        "\n",
        "    def __str__(self):\n",
        "        return f\"({self.x}, {self.y})\"\n",
        "\n",
        "    def __lt__(self, other):\n",
        "        return self.length() < other.length()\n",
        "\n",
        "    def length(self):\n",
        "        return math.sqrt(self.x**2 + self.y**2)\n",
        "\n",
        "# Example usage\n",
        "vectors = [Vector2D(3, 4), Vector2D(1, 2), Vector2D(5, 1)]\n",
        "\n",
        "# Print original vectors\n",
        "print(\"Original Vectors:\")\n",
        "for vector in vectors:\n",
        "    print(vector)\n",
        "\n",
        "# Sort vectors by length\n",
        "sorted_vectors = sorted(vectors)\n",
        "\n",
        "# Print sorted vectors\n",
        "print(\"\\nSorted Vectors (by length):\")\n",
        "for vector in sorted_vectors:\n",
        "    print(vector)\n"
      ]
    },
    {
      "cell_type": "code",
      "source": [
        "class Vector2D:\n",
        "    def __init__(self, x, y):\n",
        "        self.x = x\n",
        "        self.y = y\n",
        "\n",
        "    def __repr__(self):\n",
        "        return f\"Vector2D({self.x}, {self.y})\"\n",
        "\n",
        "    def __str__(self):\n",
        "        return f\"({self.x}, {self.y})\"\n",
        "\n",
        "    def __lt__(self, other):\n",
        "        return self.euclidean_length() < other.euclidean_length()\n",
        "\n",
        "    def euclidean_length(self):\n",
        "        return self.x + self.y\n",
        "\n",
        "# Example usage\n",
        "vectors = [Vector2D(3, 4), Vector2D(1, 2), Vector2D(5, 1)]\n",
        "\n",
        "# Print original vectors\n",
        "print(\"Original Vectors:\")\n",
        "for vector in vectors:\n",
        "    print(vector)\n",
        "\n",
        "# Sort vectors by Euclidean length\n",
        "sorted_vectors = sorted(vectors)\n",
        "\n",
        "# Print sorted vectors\n",
        "print(\"\\nSorted Vectors (by Euclidean length):\")\n",
        "for vector in sorted_vectors:\n",
        "    print(vector)\n"
      ],
      "metadata": {
        "colab": {
          "base_uri": "https://localhost:8080/"
        },
        "id": "kfc5vod6B2JF",
        "outputId": "2959b30e-6d94-4fd7-d33f-0a8d3fba17dc"
      },
      "execution_count": 3,
      "outputs": [
        {
          "output_type": "stream",
          "name": "stdout",
          "text": [
            "Original Vectors:\n",
            "(3, 4)\n",
            "(1, 2)\n",
            "(5, 1)\n",
            "\n",
            "Sorted Vectors (by Euclidean length):\n",
            "(1, 2)\n",
            "(5, 1)\n",
            "(3, 4)\n"
          ]
        }
      ]
    },
    {
      "cell_type": "code",
      "source": [
        "class Special():\n",
        "  def __contain__(self, key):\n",
        "    return True\n",
        "\n",
        "  def __len__(self):\n",
        "    return 0\n",
        "\n",
        "  def __getitem__(self, key):\n",
        "    return len(str(key))\n",
        "\n",
        "s1 = Special()\n",
        "\n",
        "print(s1[\"ned\"])\n",
        "print(s1[\"ned2\"])\n",
        "print(s1[\"ned2\" *5])"
      ],
      "metadata": {
        "colab": {
          "base_uri": "https://localhost:8080/"
        },
        "id": "7pu0MsI5SwuG",
        "outputId": "331dc97a-4435-461b-8a83-dcfa98e56d15"
      },
      "execution_count": 2,
      "outputs": [
        {
          "output_type": "stream",
          "name": "stdout",
          "text": [
            "3\n",
            "4\n",
            "20\n"
          ]
        }
      ]
    }
  ]
}