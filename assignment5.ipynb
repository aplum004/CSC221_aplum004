{
  "nbformat": 4,
  "nbformat_minor": 0,
  "metadata": {
    "colab": {
      "provenance": [],
      "authorship_tag": "ABX9TyO3rqf/BozlU5ME/ye1N+fg",
      "include_colab_link": true
    },
    "kernelspec": {
      "name": "python3",
      "display_name": "Python 3"
    },
    "language_info": {
      "name": "python"
    }
  },
  "cells": [
    {
      "cell_type": "markdown",
      "metadata": {
        "id": "view-in-github",
        "colab_type": "text"
      },
      "source": [
        "<a href=\"https://colab.research.google.com/github/aplum004/CSC221_aplum004/blob/main/assignment5.ipynb\" target=\"_parent\"><img src=\"https://colab.research.google.com/assets/colab-badge.svg\" alt=\"Open In Colab\"/></a>"
      ]
    },
    {
      "cell_type": "code",
      "execution_count": null,
      "metadata": {
        "id": "lG9CFnPuvUP4",
        "colab": {
          "base_uri": "https://localhost:8080/"
        },
        "outputId": "1adf13a6-9bfe-4e66-b7c0-b329868de986"
      },
      "outputs": [
        {
          "output_type": "stream",
          "name": "stdout",
          "text": [
            "I like cheese pizza\n",
            "I like mushroom pizza\n",
            "I like green pepper pizza\n"
          ]
        }
      ],
      "source": [
        "pizza = ['cheese', 'mushroom', 'green pepper']\n",
        "for name in pizza:\n",
        "  print(\"I like \" + name + \" pizza\")"
      ]
    },
    {
      "cell_type": "code",
      "source": [
        "animals = ['lions', 'cats', 'tigers']\n",
        "for common in animals:\n",
        "  print(common + \" would be a great pet\")\n",
        "print(\"These animals are all felines\")"
      ],
      "metadata": {
        "colab": {
          "base_uri": "https://localhost:8080/"
        },
        "id": "MHfeA9eclBKe",
        "outputId": "3addcac5-b37a-4f07-9ce5-1283f606ef7d"
      },
      "execution_count": null,
      "outputs": [
        {
          "output_type": "stream",
          "name": "stdout",
          "text": [
            "lions would be a great pet\n",
            "cats would be a great pet\n",
            "tigers would be a great pet\n",
            "These animals are all felines\n"
          ]
        }
      ]
    },
    {
      "cell_type": "code",
      "source": [
        "for value in range(1,21):\n",
        "  print(value)"
      ],
      "metadata": {
        "colab": {
          "base_uri": "https://localhost:8080/"
        },
        "id": "nYaBmnPd6Ogj",
        "outputId": "9391d721-660d-4f53-c168-40af988a6067"
      },
      "execution_count": null,
      "outputs": [
        {
          "output_type": "stream",
          "name": "stdout",
          "text": [
            "1\n",
            "2\n",
            "3\n",
            "4\n",
            "5\n",
            "6\n",
            "7\n",
            "8\n",
            "9\n",
            "10\n",
            "11\n",
            "12\n",
            "13\n",
            "14\n",
            "15\n",
            "16\n",
            "17\n",
            "18\n",
            "19\n",
            "20\n"
          ]
        }
      ]
    },
    {
      "cell_type": "code",
      "source": [
        "num = list(range(1, 100000001))\n",
        "min(num)\n",
        "max(num)\n",
        "sum(num)"
      ],
      "metadata": {
        "colab": {
          "base_uri": "https://localhost:8080/"
        },
        "id": "CXFo-M9UKZ3I",
        "outputId": "6cb69a75-a633-44f6-efe9-ac3475d1cb22"
      },
      "execution_count": null,
      "outputs": [
        {
          "output_type": "execute_result",
          "data": {
            "text/plain": [
              "5000000050000000"
            ]
          },
          "metadata": {},
          "execution_count": 12
        }
      ]
    },
    {
      "cell_type": "code",
      "source": [
        "for odd in range(1,21,2):\n",
        "  print(odd)"
      ],
      "metadata": {
        "colab": {
          "base_uri": "https://localhost:8080/"
        },
        "id": "wDRLKLmGLerL",
        "outputId": "c22cb7fe-8a1a-4062-c928-a9d0da1552eb"
      },
      "execution_count": null,
      "outputs": [
        {
          "output_type": "stream",
          "name": "stdout",
          "text": [
            "1\n",
            "3\n",
            "5\n",
            "7\n",
            "9\n",
            "11\n",
            "13\n",
            "15\n",
            "17\n",
            "19\n"
          ]
        }
      ]
    },
    {
      "cell_type": "code",
      "source": [
        "num = list(range(3,30,3))\n",
        "for mul in num:\n",
        "  print(mul)"
      ],
      "metadata": {
        "colab": {
          "base_uri": "https://localhost:8080/"
        },
        "id": "wX2kmG1kN2HU",
        "outputId": "0ef7fcb6-4745-4281-e212-f00eef604b01"
      },
      "execution_count": null,
      "outputs": [
        {
          "output_type": "stream",
          "name": "stdout",
          "text": [
            "3\n",
            "6\n",
            "9\n",
            "12\n",
            "15\n",
            "18\n",
            "21\n",
            "24\n",
            "27\n"
          ]
        }
      ]
    },
    {
      "cell_type": "code",
      "source": [
        "cube = list(value**3 for value in range (1,11))\n",
        "for value in cube:\n",
        "  print (value)"
      ],
      "metadata": {
        "id": "VXXrZbk6PTCF",
        "colab": {
          "base_uri": "https://localhost:8080/"
        },
        "outputId": "c06f34bb-c046-4817-91c1-e4809ca11cfe"
      },
      "execution_count": null,
      "outputs": [
        {
          "output_type": "stream",
          "name": "stdout",
          "text": [
            "1\n",
            "8\n",
            "27\n",
            "64\n",
            "125\n",
            "216\n",
            "343\n",
            "512\n",
            "729\n",
            "1000\n"
          ]
        }
      ]
    },
    {
      "cell_type": "code",
      "source": [
        "cube = list(value**3 for value in range (1,11))\n",
        "print(cube)"
      ],
      "metadata": {
        "colab": {
          "base_uri": "https://localhost:8080/"
        },
        "id": "uSQzIzS7zQGV",
        "outputId": "eaf4b9f5-357a-4c30-b567-2ef55c51c5d3"
      },
      "execution_count": null,
      "outputs": [
        {
          "output_type": "stream",
          "name": "stdout",
          "text": [
            "[1, 8, 27, 64, 125, 216, 343, 512, 729, 1000]\n"
          ]
        }
      ]
    },
    {
      "cell_type": "code",
      "source": [
        "animals = ['cat', 'lion', 'bear', 'rabbit', 'elephant']\n",
        "print(\"The first three items in the list are: \")\n",
        "print(animals[:3])\n",
        "print(\"Three items from the middle of the list are :\")\n",
        "print(animals[1:4])\n",
        "print(\"The last three items in the list are: \")\n",
        "print(animals[2:])"
      ],
      "metadata": {
        "colab": {
          "base_uri": "https://localhost:8080/"
        },
        "id": "i1U4FLqY1e8k",
        "outputId": "48fd3649-cd09-467a-b4da-27c28a498926"
      },
      "execution_count": null,
      "outputs": [
        {
          "output_type": "stream",
          "name": "stdout",
          "text": [
            "The first three items in the list are: \n",
            "['cat', 'lion', 'bear']\n",
            "Three items from the middle of the list are :\n",
            "['lion', 'bear', 'rabbit']\n",
            "The last three items in the list are: \n",
            "['bear', 'rabbit', 'elephant']\n"
          ]
        }
      ]
    },
    {
      "cell_type": "code",
      "source": [
        "pizza = ['cheese', 'mushroom', 'green pepper']\n",
        "friend_pizzas = pizza[:]\n",
        "pizza.append('veggie')\n",
        "friend_pizzas.append('meat')\n",
        "print(\"My fav pizza are: \")\n",
        "for new in pizza:\n",
        "  print(new)\n",
        "print(\"My friends fav pizza are: \")\n",
        "for new in friend_pizzas:\n",
        "  print(new)\n"
      ],
      "metadata": {
        "colab": {
          "base_uri": "https://localhost:8080/"
        },
        "id": "nkUmletj3d_F",
        "outputId": "6a7b0d60-8a62-4c06-8f7f-058cd3dfba7e"
      },
      "execution_count": null,
      "outputs": [
        {
          "output_type": "stream",
          "name": "stdout",
          "text": [
            "My fav pizza are: \n",
            "cheese\n",
            "mushroom\n",
            "green pepper\n",
            "veggie\n",
            "My friends fav pizza are: \n",
            "cheese\n",
            "mushroom\n",
            "green pepper\n",
            "meat\n"
          ]
        }
      ]
    },
    {
      "cell_type": "code",
      "source": [
        "buffet = ('rice', 'chicken', 'potatoe', 'cake', 'pudding')\n",
        "print(\"Original Menu\")\n",
        "for food in buffet:\n",
        "  print(food)\n",
        "\n",
        "buffet = ('rice', 'ribs', 'potatoe', 'cake', 'ice cream')\n",
        "print(\"\\nNew Menu\")\n",
        "for food in buffet:\n",
        "  print(food)"
      ],
      "metadata": {
        "colab": {
          "base_uri": "https://localhost:8080/"
        },
        "id": "HmRn0tqd5fTB",
        "outputId": "0166cbb4-b651-47cf-c86a-fd2defa558be"
      },
      "execution_count": null,
      "outputs": [
        {
          "output_type": "stream",
          "name": "stdout",
          "text": [
            "Original Menu\n",
            "rice\n",
            "chicken\n",
            "potatoe\n",
            "cake\n",
            "pudding\n",
            "\n",
            "New Menu\n",
            "rice\n",
            "ribs\n",
            "potatoe\n",
            "cake\n",
            "ice cream\n"
          ]
        }
      ]
    },
    {
      "cell_type": "code",
      "source": [
        "def factorial(n):\n",
        "  product = 1\n",
        "  for x in range(1, n + 1):\n",
        "    product *=x\n",
        "  print(product)\n",
        "factorial(5)\n",
        "factorial(10)"
      ],
      "metadata": {
        "id": "kAlZ5z1cCPc6",
        "colab": {
          "base_uri": "https://localhost:8080/"
        },
        "outputId": "a307d3a0-24fe-45a3-d5e2-6f43576af231"
      },
      "execution_count": null,
      "outputs": [
        {
          "output_type": "stream",
          "name": "stdout",
          "text": [
            "120\n",
            "3628800\n"
          ]
        }
      ]
    },
    {
      "cell_type": "code",
      "source": [
        "\n",
        "def special_factorial(n):\n",
        "  product = 1\n",
        "  for x in range(1, n + 1):\n",
        "    if x not in (4, 13, 22):\n",
        "        product *= x\n",
        "  print(product)\n",
        "special_factorial(5)\n",
        "special_factorial(10)"
      ],
      "metadata": {
        "colab": {
          "base_uri": "https://localhost:8080/"
        },
        "id": "LziqZJAsIXPf",
        "outputId": "13457053-9735-480c-bdef-bbc7c0664702"
      },
      "execution_count": null,
      "outputs": [
        {
          "output_type": "stream",
          "name": "stdout",
          "text": [
            "30\n",
            "907200\n"
          ]
        }
      ]
    },
    {
      "cell_type": "code",
      "source": [],
      "metadata": {
        "id": "bPAl11cvKWlq"
      },
      "execution_count": null,
      "outputs": []
    }
  ]
}