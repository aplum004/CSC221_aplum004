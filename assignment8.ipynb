{
  "nbformat": 4,
  "nbformat_minor": 0,
  "metadata": {
    "colab": {
      "provenance": [],
      "authorship_tag": "ABX9TyOkq8EuFdJ0zH/fM2ou4kLq",
      "include_colab_link": true
    },
    "kernelspec": {
      "name": "python3",
      "display_name": "Python 3"
    },
    "language_info": {
      "name": "python"
    }
  },
  "cells": [
    {
      "cell_type": "markdown",
      "metadata": {
        "id": "view-in-github",
        "colab_type": "text"
      },
      "source": [
        "<a href=\"https://colab.research.google.com/github/aplum004/CSC221_aplum004/blob/main/assignment8.ipynb\" target=\"_parent\"><img src=\"https://colab.research.google.com/assets/colab-badge.svg\" alt=\"Open In Colab\"/></a>"
      ]
    },
    {
      "cell_type": "code",
      "execution_count": 1,
      "metadata": {
        "colab": {
          "base_uri": "https://localhost:8080/"
        },
        "id": "iRHAEY8ZIhKJ",
        "outputId": "6f02cd77-d32f-4bdf-d6f0-b143468c1b70"
      },
      "outputs": [
        {
          "output_type": "stream",
          "name": "stdout",
          "text": [
            "What kind of rental carr would you like: Subara\n",
            "Let me see if i can find you a Subara\n"
          ]
        }
      ],
      "source": [
        "message =  input(\"What kind of rental carr would you like: \")\n",
        "print(\"Let me see if i can find you a \" + message)"
      ]
    },
    {
      "cell_type": "code",
      "source": [
        "num = input(\"Give me a number: \")\n",
        "num = int(num)\n",
        "\n",
        "if num % 10 == 0:\n",
        "  print(\"The \" + str(num) + \" is a multiple of 10\")\n",
        "else:\n",
        "  print(\"The \" + str(num) + \" is not a multiple of 10\")"
      ],
      "metadata": {
        "colab": {
          "base_uri": "https://localhost:8080/"
        },
        "id": "_K9WJbw-SWTX",
        "outputId": "7ed56144-f434-4b3c-b673-27e360592091"
      },
      "execution_count": 4,
      "outputs": [
        {
          "output_type": "stream",
          "name": "stdout",
          "text": [
            "Give me a number: 3\n",
            "The 3 is not a multiple of 10\n"
          ]
        }
      ]
    },
    {
      "cell_type": "code",
      "source": [
        "'''\n",
        "A movie theater charges different ticket prices depending on\n",
        "a person’s age. If a person is under the age of 3, the ticket is free; if they are\n",
        "between 3 and 12, the ticket is $10; and if they are over age 12, the ticket is\n",
        "$15. Write a loop in which you ask users their age, and then tell them the cost\n",
        "of their movie ticket.\n",
        "'''"
      ],
      "metadata": {
        "id": "4gpoS09vDnbJ"
      },
      "execution_count": null,
      "outputs": []
    },
    {
      "cell_type": "code",
      "source": [
        "\n",
        "while movie:\n",
        "  movie = input(\"What is your age: \")\n",
        "  movie = int(movie)\n",
        "  if movie <= 3:\n",
        "    print(\"The ticket is free\")\n",
        "  elif movie <= 12:\n",
        "    print(\"The ticket is $10\")\n",
        "  elif movie > 12:\n",
        "    print(\"The ticket is $15\")\n",
        "    if movie == 200:\n",
        "      break"
      ],
      "metadata": {
        "colab": {
          "base_uri": "https://localhost:8080/"
        },
        "id": "4T_EHwZyUlHp",
        "outputId": "8d9c43ea-b92f-4ef2-b4c5-0129f714bac3"
      },
      "execution_count": 9,
      "outputs": [
        {
          "output_type": "stream",
          "name": "stdout",
          "text": [
            "What is your age: 17\n",
            "The ticket is $15\n",
            "What is your age: 0\n",
            "The ticket is free\n"
          ]
        }
      ]
    },
    {
      "cell_type": "code",
      "source": [
        "while movie != 200:\n",
        "  movie = input(\"What is your age: \")\n",
        "  movie = int(movie)\n",
        "  if movie <= 3:\n",
        "    print(\"The ticket is free\")\n",
        "  elif movie <= 12:\n",
        "    print(\"The ticket is $10\")\n",
        "  elif movie > 12:\n",
        "    print(\"The ticket is $15\")\n",
        "\n"
      ],
      "metadata": {
        "colab": {
          "base_uri": "https://localhost:8080/"
        },
        "id": "NO4JSU5jIU-0",
        "outputId": "e1ce8edf-3482-4528-c64e-71c6b05c51a0"
      },
      "execution_count": 13,
      "outputs": [
        {
          "output_type": "stream",
          "name": "stdout",
          "text": [
            "What is your age: 200\n",
            "The ticket is $15\n"
          ]
        }
      ]
    },
    {
      "cell_type": "code",
      "source": [
        "active = True\n",
        "while active:\n",
        "  movie = input(\"What is your age: \")\n",
        "  movie = int(movie)\n",
        "  if movie <= 3:\n",
        "    print(\"The ticket is free\")\n",
        "  elif movie <= 12:\n",
        "    print(\"The ticket is $10\")\n",
        "  elif movie > 12:\n",
        "    print(\"The ticket is $15\")\n",
        "  if movie == 200:\n",
        "    active = False\n"
      ],
      "metadata": {
        "colab": {
          "base_uri": "https://localhost:8080/"
        },
        "id": "OTo6cM6PLYcP",
        "outputId": "35de6309-bf3a-445c-be54-563920c2d5c5"
      },
      "execution_count": 14,
      "outputs": [
        {
          "output_type": "stream",
          "name": "stdout",
          "text": [
            "What is your age: 4\n",
            "The ticket is $10\n",
            "What is your age: 8\n",
            "The ticket is $10\n",
            "What is your age: 200\n",
            "The ticket is $15\n"
          ]
        }
      ]
    },
    {
      "cell_type": "code",
      "source": [
        "sandwich_orders = ['chicken', 'shrimp', 'chopped cheese', 'BLT', 'Bacon Egg & Cheese']\n",
        "finished_sandwiches = []\n",
        "\n",
        "while sandwich_orders:\n",
        "  finished = sandwich_orders.pop()\n",
        "  print(\"I made your \" + finished + \" sandwich\")\n",
        "  finished_sandwiches.append(finished)\n",
        "\n",
        "print(\"\\nThe finished sandwiches are:\")\n",
        "for finished_sandwich in finished_sandwiches:\n",
        "  print(finished_sandwich)"
      ],
      "metadata": {
        "colab": {
          "base_uri": "https://localhost:8080/"
        },
        "id": "xypXZ7BSPya2",
        "outputId": "0337800c-303f-42c1-eabd-18a368b7056b"
      },
      "execution_count": 20,
      "outputs": [
        {
          "output_type": "stream",
          "name": "stdout",
          "text": [
            "I made your Bacon Egg & Cheese sandwich\n",
            "I made your BLT sandwich\n",
            "I made your chopped cheese sandwich\n",
            "I made your shrimp sandwich\n",
            "I made your chicken sandwich\n",
            "\n",
            "The finished sandwiches are:\n",
            "Bacon Egg & Cheese\n",
            "BLT\n",
            "chopped cheese\n",
            "shrimp\n",
            "chicken\n"
          ]
        }
      ]
    },
    {
      "cell_type": "code",
      "source": [
        "total = 4\n",
        "active = True\n",
        "while active:\n",
        "  num = input(\"Tell me a number: \")\n",
        "  if num == \"000\":\n",
        "    active = False\n",
        "  num = int(num)\n",
        "  operator = input(\"Tell me an operator: \")\n",
        "\n",
        "  if operator == '+':\n",
        "    total += num\n",
        "  elif operator == '-':\n",
        "    total -= num\n",
        "  elif operator == '*':\n",
        "    total *= num\n",
        "  elif operator == '%':\n",
        "    total /= num\n",
        "\n",
        "\n",
        "  print(total)\n"
      ],
      "metadata": {
        "colab": {
          "base_uri": "https://localhost:8080/"
        },
        "id": "1DinDWZhUF3-",
        "outputId": "0e271a66-4b4d-4ff5-d329-76f39d65abc5"
      },
      "execution_count": 39,
      "outputs": [
        {
          "output_type": "stream",
          "name": "stdout",
          "text": [
            "Tell me a number: 000\n",
            "Tell me an operator: /\n",
            "4\n"
          ]
        }
      ]
    }
  ]
}