{
  "nbformat": 4,
  "nbformat_minor": 0,
  "metadata": {
    "colab": {
      "provenance": [],
      "authorship_tag": "ABX9TyOqePo9m7vHtFB7M24SIL0G",
      "include_colab_link": true
    },
    "kernelspec": {
      "name": "python3",
      "display_name": "Python 3"
    },
    "language_info": {
      "name": "python"
    }
  },
  "cells": [
    {
      "cell_type": "markdown",
      "metadata": {
        "id": "view-in-github",
        "colab_type": "text"
      },
      "source": [
        "<a href=\"https://colab.research.google.com/github/aplum004/CSC221_aplum004/blob/main/Assignment7.ipynb\" target=\"_parent\"><img src=\"https://colab.research.google.com/assets/colab-badge.svg\" alt=\"Open In Colab\"/></a>"
      ]
    },
    {
      "cell_type": "code",
      "execution_count": 3,
      "metadata": {
        "colab": {
          "base_uri": "https://localhost:8080/"
        },
        "id": "u08SZdY94hgn",
        "outputId": "e74728ce-fd55-4296-c0ae-da8372e194ce"
      },
      "outputs": [
        {
          "output_type": "stream",
          "name": "stdout",
          "text": [
            "Christian\n",
            "Morgan\n",
            "20\n",
            "Brooklyn\n"
          ]
        }
      ],
      "source": [
        "person = {'first_name' : 'Christian', 'last_name' : 'Morgan',\n",
        "          'age' : '20', 'city' : 'Brooklyn'}\n",
        "print(person['first_name'])\n",
        "print(person['last_name'])\n",
        "print(person['age'])\n",
        "print(person['city'])"
      ]
    },
    {
      "cell_type": "code",
      "source": [
        "fav_num = {'Chris' : '21', 'Akeilah' : '8', 'Amelia' : '12',\n",
        "           'Clowe' : '6', 'Jai' : '19'}\n",
        "print(\"Chris favorite number is \" + fav_num['Chris'])\n",
        "print(\"Akeilah favorite number is \" + fav_num['Akeilah'])\n",
        "print(\"Amelia number is \" + fav_num['Amelia'])\n",
        "print(\"Clowe favorite number is \" + fav_num['Clowe'])\n",
        "print(\"Jai favorite number is \" + fav_num['Jai'])"
      ],
      "metadata": {
        "colab": {
          "base_uri": "https://localhost:8080/"
        },
        "id": "pQz0EarK7gd8",
        "outputId": "53cef090-30fb-4631-bf2e-a3195366e9e7"
      },
      "execution_count": 6,
      "outputs": [
        {
          "output_type": "stream",
          "name": "stdout",
          "text": [
            "Chris favorite number is 21\n",
            "Akeilah favorite number is 8\n",
            "Amelia number is 12\n",
            "Clowe favorite number is 6\n",
            "Jai favorite number is 19\n"
          ]
        }
      ]
    },
    {
      "cell_type": "code",
      "source": [
        "glossary = {'print' : 'prints an output ', 'loop' : 'repeats a function',\n",
        "\n",
        "            'break' : 'exits a loop when an external condition is met',\n",
        "            'def' : 'defines a function',\n",
        "            'return' : 'ends dunction and gives the result'}\n",
        "print(\"print : \\n\" + glossary['print'])\n",
        "print(\"loop : \\n\" + glossary['loop'])\n",
        "print(\"break : \\n\" + glossary['break'])\n",
        "print(\"def : \\n\" + glossary['def'])\n",
        "print(\"return : \\n\" + glossary['return'])"
      ],
      "metadata": {
        "colab": {
          "base_uri": "https://localhost:8080/"
        },
        "id": "uMwxVikb-Tfm",
        "outputId": "c58762b9-de5e-44fb-d8ac-11ac59e1ec98"
      },
      "execution_count": 11,
      "outputs": [
        {
          "output_type": "stream",
          "name": "stdout",
          "text": [
            "print : \n",
            "prints an output \n",
            "loop : \n",
            "repeats a function\n",
            "break : \n",
            "exits a loop when an external condition is met\n",
            "def : \n",
            "defines a function\n",
            "return : \n",
            "ends dunction and gives the result\n"
          ]
        }
      ]
    },
    {
      "cell_type": "code",
      "source": [
        "glossary = {'print' : 'prints an output ', 'loop' : 'repeats a function',\n",
        "\n",
        "            'break' : 'exits a loop when an external condition is met',\n",
        "            'def' : 'defines a function',\n",
        "            'return' : 'ends dunction and gives the result'}\n",
        "for key, value in glossary.items():\n",
        "  print(\"\\nword: \" + key)\n",
        "  print(\"defination: \" + value)"
      ],
      "metadata": {
        "colab": {
          "base_uri": "https://localhost:8080/"
        },
        "id": "7HKPpAWEBgvi",
        "outputId": "f5a5bf0f-f417-4f79-8e94-d4eda4a9d906"
      },
      "execution_count": 14,
      "outputs": [
        {
          "output_type": "stream",
          "name": "stdout",
          "text": [
            "\n",
            "word: print\n",
            "defination: prints an output \n",
            "\n",
            "word: loop\n",
            "defination: repeats a function\n",
            "\n",
            "word: break\n",
            "defination: exits a loop when an external condition is met\n",
            "\n",
            "word: def\n",
            "defination: defines a function\n",
            "\n",
            "word: return\n",
            "defination: ends dunction and gives the result\n"
          ]
        }
      ]
    },
    {
      "cell_type": "code",
      "source": [
        "cities = {'NYC' : {\n",
        "    'country' : 'US',\n",
        "    'population' : '8.4 million ',\n",
        "    'fact' : 'Its too expensive to live comfortably'\n",
        "},\n",
        "          'London' : {\n",
        "              'country' : 'UK',\n",
        "              'population' : '8.9 million',\n",
        "              'fact' : 'London has 170 museums'\n",
        "          },\n",
        "          'Chicago' : {\n",
        "              'country' : 'US',\n",
        "              'population' : '2.6 million',\n",
        "              'fact' : 'Is nickname the Windy City'\n",
        "          }\n",
        "\n",
        "\n",
        "}\n",
        "\n",
        "for city, info in cities.items():\n",
        "  print(\"\\nCities: \" + city)\n",
        "  city_info = \"\\n\" + info['country'] + \"\\n\" + info['population'] + \"\\n\" + info['fact']\n",
        "  print(\"\\nCity Info: \" + city_info)"
      ],
      "metadata": {
        "colab": {
          "base_uri": "https://localhost:8080/"
        },
        "id": "1NnSyliWEnfu",
        "outputId": "16913ba0-8cf1-464b-e6ee-2aaf2b038591"
      },
      "execution_count": 23,
      "outputs": [
        {
          "output_type": "stream",
          "name": "stdout",
          "text": [
            "\n",
            "Cities: NYC\n",
            "\n",
            "City Info: \n",
            "US\n",
            "8.4 million \n",
            "Its too expensive to live comfortably\n",
            "\n",
            "Cities: London\n",
            "\n",
            "City Info: \n",
            "UK\n",
            "8.9 million\n",
            "London has 170 museums\n",
            "\n",
            "Cities: Chicago\n",
            "\n",
            "City Info: \n",
            "US\n",
            "2.6 million\n",
            "Is nickname the Windy City\n"
          ]
        }
      ]
    },
    {
      "cell_type": "code",
      "source": [
        "glossary = {\n",
        "    'Keywords': {\n",
        "        'print': 'prints an output',\n",
        "        'loop': 'repeats a function',\n",
        "        'break': 'exits a loop when an external condition is met',\n",
        "        'def': 'defines a function',\n",
        "        'return': 'ends function and gives the result'\n",
        "    },\n",
        "    'Boolean': {\n",
        "        'True': 'is a boolean value, means the same as 1',\n",
        "        'False': 'is a boolean value, means the same as 0'\n",
        "    }\n",
        "}\n",
        "\n",
        "for words, define in glossary.items():\n",
        "    print(\"\\nTypes: \" + words)\n",
        "    values = \"\"\n",
        "    for key, value in define.items():\n",
        "        values += key + \": \" + value + \"\\n\"\n",
        "    print(values)\n"
      ],
      "metadata": {
        "colab": {
          "base_uri": "https://localhost:8080/"
        },
        "id": "3vSEQxM7bzkE",
        "outputId": "fa478104-b982-4e7a-ce42-fcf304c69876"
      },
      "execution_count": 36,
      "outputs": [
        {
          "output_type": "stream",
          "name": "stdout",
          "text": [
            "\n",
            "Types: Keywords\n",
            "print: prints an output\n",
            "loop: repeats a function\n",
            "break: exits a loop when an external condition is met\n",
            "def: defines a function\n",
            "return: ends function and gives the result\n",
            "\n",
            "\n",
            "Types: Boolean\n",
            "True: is a boolean value, means the same as 1\n",
            "False: is a boolean value, means the same as 0\n",
            "\n"
          ]
        }
      ]
    }
  ]
}