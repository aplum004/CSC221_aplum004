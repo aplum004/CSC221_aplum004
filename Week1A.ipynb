{
  "nbformat": 4,
  "nbformat_minor": 0,
  "metadata": {
    "colab": {
      "provenance": [],
      "authorship_tag": "ABX9TyPOBS7C4T5TRo7UNSsMPBa0",
      "include_colab_link": true
    },
    "kernelspec": {
      "name": "python3",
      "display_name": "Python 3"
    },
    "language_info": {
      "name": "python"
    }
  },
  "cells": [
    {
      "cell_type": "markdown",
      "metadata": {
        "id": "view-in-github",
        "colab_type": "text"
      },
      "source": [
        "<a href=\"https://colab.research.google.com/github/aplum004/CSC221_aplum004/blob/main/Week1A.ipynb\" target=\"_parent\"><img src=\"https://colab.research.google.com/assets/colab-badge.svg\" alt=\"Open In Colab\"/></a>"
      ]
    },
    {
      "cell_type": "code",
      "execution_count": 1,
      "metadata": {
        "colab": {
          "base_uri": "https://localhost:8080/"
        },
        "id": "UIabE2VHJVsj",
        "outputId": "59491b9e-290b-4474-ee86-aadfa3c6e5fc"
      },
      "outputs": [
        {
          "output_type": "stream",
          "name": "stdout",
          "text": [
            "9 10\n"
          ]
        }
      ],
      "source": [
        "def f1(x, y, z):\n",
        "  a = x + y\n",
        "  b = x + z\n",
        "  print(a,b)\n",
        "\n",
        "\n",
        "f1(4,5,6)"
      ]
    },
    {
      "cell_type": "code",
      "source": [
        "set1 = {18, 14, 13, 22, 22, 1, 5}\n",
        "print (set1)"
      ],
      "metadata": {
        "colab": {
          "base_uri": "https://localhost:8080/"
        },
        "id": "w4JvP32sKIvX",
        "outputId": "86a67482-5f55-4c91-c5f8-c050baeadf10"
      },
      "execution_count": 2,
      "outputs": [
        {
          "output_type": "stream",
          "name": "stdout",
          "text": [
            "{1, 18, 5, 22, 13, 14}\n"
          ]
        }
      ]
    },
    {
      "cell_type": "code",
      "source": [
        "dict = {'keli':19, 'kaylah': 18}\n",
        "print(dict['keli'])"
      ],
      "metadata": {
        "colab": {
          "base_uri": "https://localhost:8080/"
        },
        "id": "rcxMMy3hKbgS",
        "outputId": "1be9d496-faae-44b0-d481-9b748a87619f"
      },
      "execution_count": 3,
      "outputs": [
        {
          "output_type": "stream",
          "name": "stdout",
          "text": [
            "19\n"
          ]
        }
      ]
    }
  ]
}