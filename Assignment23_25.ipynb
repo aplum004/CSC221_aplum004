{
  "nbformat": 4,
  "nbformat_minor": 0,
  "metadata": {
    "colab": {
      "provenance": [],
      "authorship_tag": "ABX9TyMeGd/M4H6I2Z13zlSaR1Uj",
      "include_colab_link": true
    },
    "kernelspec": {
      "name": "python3",
      "display_name": "Python 3"
    },
    "language_info": {
      "name": "python"
    }
  },
  "cells": [
    {
      "cell_type": "markdown",
      "metadata": {
        "id": "view-in-github",
        "colab_type": "text"
      },
      "source": [
        "<a href=\"https://colab.research.google.com/github/aplum004/CSC221_aplum004/blob/main/Assignment23_25.ipynb\" target=\"_parent\"><img src=\"https://colab.research.google.com/assets/colab-badge.svg\" alt=\"Open In Colab\"/></a>"
      ]
    },
    {
      "cell_type": "code",
      "execution_count": 3,
      "metadata": {
        "id": "fUxH2RI0JPHn",
        "colab": {
          "base_uri": "https://localhost:8080/"
        },
        "outputId": "4203c84e-5447-412d-e8e2-1745eefd04eb"
      },
      "outputs": [
        {
          "output_type": "stream",
          "name": "stdout",
          "text": [
            "19\n",
            "Tiny  Human\n"
          ]
        }
      ],
      "source": [
        "#Write and test a function that has only positional arguments: def func(a, b)\n",
        "def func(a,b):\n",
        "  return a + b\n",
        "\n",
        "result1 = func(7,12)\n",
        "print(result1)\n",
        "\n",
        "result2 = func(\"Tiny \", \" Human\")\n",
        "print(result2)"
      ]
    },
    {
      "cell_type": "code",
      "source": [
        "#Write and test a function that has variadic arguments: def func(*s)\n",
        "def func(*args):\n",
        "  return sum(args)\n",
        "\n",
        "result = func(56)\n",
        "print(result)"
      ],
      "metadata": {
        "id": "qaVR1sb_JYoS",
        "colab": {
          "base_uri": "https://localhost:8080/"
        },
        "outputId": "6b9c2b72-d2d4-477b-cf96-911230d87005"
      },
      "execution_count": 2,
      "outputs": [
        {
          "output_type": "stream",
          "name": "stdout",
          "text": [
            "56\n"
          ]
        }
      ]
    },
    {
      "cell_type": "code",
      "source": [
        "#Write and test a function that uses only keyword arguments: def func(**kwargs)\n",
        "def func(**kwargs):\n",
        "    result_str = \"Keyword arguments: \"\n",
        "    for key, value in kwargs.items():\n",
        "        result_str += f\"{key}={value}, \"\n",
        "    return result_str.rstrip(', ')\n",
        "\n",
        "\n",
        "result = func(name=\"John\", age=25, city=\"New York\")\n",
        "print(result)\n"
      ],
      "metadata": {
        "id": "CIxkn9Z8JbcS",
        "colab": {
          "base_uri": "https://localhost:8080/"
        },
        "outputId": "3316e15c-8dc0-4fea-dd15-c512b9bc0025"
      },
      "execution_count": 3,
      "outputs": [
        {
          "output_type": "stream",
          "name": "stdout",
          "text": [
            "Keyword arguments: name=John, age=25, city=New York\n"
          ]
        }
      ]
    },
    {
      "cell_type": "code",
      "source": [
        "#Write and test a function that accepts any inputs: def func(*args, **kwargs). The function should add or subtract all the *args based on a keyword operator='+' or operator='-'\n",
        "def func(*args, **kwargs):\n",
        "  operator = kwargs.get('operator', '+')\n",
        "  if operator == '+':\n",
        "    result = sum(args)\n",
        "  elif operator == '-':\n",
        "    result = args[0] if args else 0\n",
        "    for num in args[1:]:\n",
        "        result -= num\n",
        "\n",
        "\n",
        "  return result\n",
        "\n",
        "result_addition = func(3, 5, 7, operator='+')\n",
        "print(result_addition)\n",
        "\n",
        "result_subtraction = func(10, 2, 3, operator='-')\n",
        "print(result_subtraction)"
      ],
      "metadata": {
        "id": "cEBDD80fJdZn",
        "colab": {
          "base_uri": "https://localhost:8080/"
        },
        "outputId": "478ae995-14db-4136-c57f-caa67e2570a9"
      },
      "execution_count": 7,
      "outputs": [
        {
          "output_type": "stream",
          "name": "stdout",
          "text": [
            "15\n",
            "5\n"
          ]
        }
      ]
    },
    {
      "cell_type": "code",
      "source": [
        "#Create a global variable and then create a function that uses and changes its value.\n",
        "global_var = 8\n",
        "\n",
        "def func2(new_vaule):\n",
        "  global global_var\n",
        "  print(global_var)\n",
        "\n",
        "  global_var = new_vaule\n",
        "  print(global_var)\n",
        "\n",
        "func2(45)"
      ],
      "metadata": {
        "id": "qo9am8SKJf2q",
        "colab": {
          "base_uri": "https://localhost:8080/"
        },
        "outputId": "ead51c6c-4ae5-4f9b-a18e-34a22ecabf46"
      },
      "execution_count": 8,
      "outputs": [
        {
          "output_type": "stream",
          "name": "stdout",
          "text": [
            "8\n",
            "45\n"
          ]
        }
      ]
    },
    {
      "cell_type": "code",
      "source": [
        "#Create a lambda function that allows the use of sorted(...) such that words are sorted by the number of vowels they contain.\n",
        "words = ['cow foot', 'turkey neck', 'chitlens', 'chicken foot', 'oxtails']\n",
        "\n",
        "sorted_words = sorted(words, key=lambda word: sum(1 for char in word if char.lower() in 'aeiou'))\n",
        "print(sorted_words)"
      ],
      "metadata": {
        "id": "Y2BkGDr6JiyF",
        "colab": {
          "base_uri": "https://localhost:8080/"
        },
        "outputId": "802673ec-0723-4753-9308-6f0576527cdc"
      },
      "execution_count": 10,
      "outputs": [
        {
          "output_type": "stream",
          "name": "stdout",
          "text": [
            "['chitlens', 'cow foot', 'turkey neck', 'oxtails', 'chicken foot']\n"
          ]
        }
      ]
    },
    {
      "cell_type": "code",
      "source": [
        "#Write a decorator called logger() that appends the name of the function, all of its arguments, and its return value to a file called log.txt. Use some of your functions above to demonstrate how @logger works.\n",
        "def logger(func):\n",
        "  def wrapper(*args, **kwargs):\n",
        "    with open('log.txt', 'a') as log_file:\n",
        "      log_file.write(args, kwargs )\n",
        "      result = func(*args, **kwargs)\n",
        "      log_file.write(result)\n",
        "    return result\n",
        "  return wrapper\n",
        "\n",
        "@logger\n",
        "def add_numbers(a,b):\n",
        "  return a + b"
      ],
      "metadata": {
        "id": "wSmfVR3kJk9U"
      },
      "execution_count": 2,
      "outputs": []
    },
    {
      "cell_type": "code",
      "source": [
        "#Show an example of how Python can be used to perform map, filter, and reduce operations.\n",
        "numbers = [1, 2, 3, 4, 5]\n",
        "\n",
        "squared_numbers = list(map(lambda x: x**2, numbers))\n",
        "\n",
        "print(squared_numbers)\n",
        "\n",
        "numbers = [1, 2, 3, 4, 5, 6, 7, 8, 9]\n",
        "\n",
        "even_numbers = list(filter(lambda x: x % 2 == 0, numbers))\n",
        "\n",
        "print(even_numbers)\n",
        "\n",
        "from functools import reduce\n",
        "\n",
        "numbers = [1, 2, 3, 4, 5]\n",
        "\n",
        "product = reduce(lambda x, y: x * y, numbers)\n",
        "\n",
        "print(product)\n"
      ],
      "metadata": {
        "id": "kki3jlp6JnHr",
        "colab": {
          "base_uri": "https://localhost:8080/"
        },
        "outputId": "4b802634-a829-488c-d4a5-0fb016199def"
      },
      "execution_count": 3,
      "outputs": [
        {
          "output_type": "stream",
          "name": "stdout",
          "text": [
            "[1, 4, 9, 16, 25]\n",
            "[2, 4, 6, 8]\n",
            "120\n"
          ]
        }
      ]
    },
    {
      "cell_type": "code",
      "source": [
        "#Show how you can use exec(...) to make a simple calculator that runs in a loop and allows me to type in ant Python expression (like '5 + 3 - 8 / 12') and print the result by merely passing the expression to exec(...).\n",
        "def calculator():\n",
        "  while True:\n",
        "    try:\n",
        "      expression = input(\"Enter into Calaculator: \")\n",
        "      if expression.lower() == 'exit':\n",
        "        break\n",
        "\n",
        "      result = eval(expression)\n",
        "      print(result)\n",
        "\n",
        "    except Exception as e:\n",
        "      print(e)\n",
        "\n",
        "if __name__ == \"__main__\":\n",
        "  calculator()"
      ],
      "metadata": {
        "id": "DJH-qIEkJo8B",
        "colab": {
          "base_uri": "https://localhost:8080/"
        },
        "outputId": "25eb8c3f-00f3-40de-fff1-fdb1f9ff092c"
      },
      "execution_count": 4,
      "outputs": [
        {
          "name": "stdout",
          "output_type": "stream",
          "text": [
            "Enter into Calaculator: 5 + 3 - 8 / 12\n",
            "7.333333333333333\n",
            "Enter into Calaculator: exit\n"
          ]
        }
      ]
    }
  ]
}