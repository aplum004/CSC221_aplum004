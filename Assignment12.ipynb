{
  "nbformat": 4,
  "nbformat_minor": 0,
  "metadata": {
    "colab": {
      "provenance": [],
      "authorship_tag": "ABX9TyNtBSq7CHL/Ih7wC93nMpwm",
      "include_colab_link": true
    },
    "kernelspec": {
      "name": "python3",
      "display_name": "Python 3"
    },
    "language_info": {
      "name": "python"
    }
  },
  "cells": [
    {
      "cell_type": "markdown",
      "metadata": {
        "id": "view-in-github",
        "colab_type": "text"
      },
      "source": [
        "<a href=\"https://colab.research.google.com/github/aplum004/CSC221_aplum004/blob/main/Assignment12.ipynb\" target=\"_parent\"><img src=\"https://colab.research.google.com/assets/colab-badge.svg\" alt=\"Open In Colab\"/></a>"
      ]
    },
    {
      "cell_type": "code",
      "execution_count": 10,
      "metadata": {
        "id": "PJoIQTD0h-6I",
        "colab": {
          "base_uri": "https://localhost:8080/"
        },
        "outputId": "360f397b-3e86-479d-be24-7393c0058fe6"
      },
      "outputs": [
        {
          "output_type": "stream",
          "name": "stdout",
          "text": [
            "<__main__.Wallet object at 0x799bd2907010>\n",
            "<built-in function sum>\n"
          ]
        }
      ],
      "source": [
        "class Money():\n",
        "\n",
        "  def __init__(self,value, quantity=0 ):\n",
        "    self.value = value\n",
        "    self.quantity = quantity\n",
        "\n",
        "class Bills(Money):\n",
        "  def __init__(self, value, quantity=0):\n",
        "    super().__init__(value)\n",
        "    self.quantity = quantity\n",
        "\n",
        "\n",
        "class One(Bills):\n",
        "  def __init__(self, quantity=0):\n",
        "    super().__init__(1, quantity)\n",
        "\n",
        "class Five(Bills):\n",
        "  def __init__(self, quantity=0):\n",
        "    super().__init__(5, quantity)\n",
        "\n",
        "class Ten(Bills):\n",
        "  def __init__(self, quantity=0):\n",
        "    super().__init__(10, quantity)\n",
        "\n",
        "class Twenty(Bills):\n",
        "  def __init__(self, quantity=0):\n",
        "    super().__init__(20, quantity)\n",
        "\n",
        "\n",
        "\n",
        "\n",
        "class Coins(Money):\n",
        "  def __init__(self, value, quantity=0):\n",
        "    super().__init__(value, quantity)\n",
        "    self.quantity = quantity\n",
        "\n",
        "\n",
        "class Penny(Coins):\n",
        "  def __init__(self,  quantity=0):\n",
        "    super().__init__(.01)\n",
        "\n",
        "class Nickel(Coins):\n",
        "  def __init__(self,quantity=0):\n",
        "    super().__init__(.05, quantity)\n",
        "\n",
        "class Dime(Coins):\n",
        "  def __init__(self, quantity=0):\n",
        "    super().__init__(.10, quantity)\n",
        "\n",
        "class Quarter(Coins):\n",
        "  def __init__(self, quantity=0):\n",
        "    super().__init__(.25, quantity)\n",
        "\n",
        "class Wallet():\n",
        "  def __init__(self):\n",
        "    self.money = []\n",
        "\n",
        "  def add_money(self, money):\n",
        "    self.money.append(money)\n",
        "\n",
        "  def sum_money(self):\n",
        "    return sum\n",
        "\n",
        "\n",
        "wallet1 = Wallet()\n",
        "wallet1.add_money(One(quantity=5))\n",
        "wallet1.add_money(Quarter(quantity=3))\n",
        "wallet1.add_money(Dime(quantity=2))\n",
        "\n",
        "print(wallet1)\n",
        "print(wallet1.sum_money())"
      ]
    },
    {
      "cell_type": "code",
      "source": [
        "class MediaItem:\n",
        "    def __init__(self, title, creator, year):\n",
        "        self.title = title\n",
        "        self.creator = creator\n",
        "        self.year = year\n",
        "\n",
        "    def display_info(self):\n",
        "        print(f\"{self.title} by {self.creator} ({self.year})\")\n",
        "\n",
        "\n",
        "class Book(MediaItem):\n",
        "    def __init__(self, title, author, year, genre):\n",
        "        super().__init__(title, author, year)\n",
        "        self.genre = genre\n",
        "\n",
        "    def display_info(self):\n",
        "        super().display_info()\n",
        "        print(f\"Genre: {self.genre}\")\n",
        "\n",
        "\n",
        "class DVD(MediaItem):\n",
        "    def __init__(self, title, director, year, duration):\n",
        "        super().__init__(title, director, year)\n",
        "        self.duration = duration\n",
        "\n",
        "    def display_info(self):\n",
        "        super().display_info()\n",
        "        print(f\"Duration: {self.duration} minutes\")\n",
        "\n",
        "\n",
        "class Audiobook(MediaItem):\n",
        "    def __init__(self, title, author, year, narrator, duration):\n",
        "        super().__init__(title, author, year)\n",
        "        self.narrator = narrator\n",
        "        self.duration = duration\n",
        "\n",
        "    def display_info(self):\n",
        "        super().display_info()\n",
        "        print(f\"Narrated by {self.narrator}\")\n",
        "        print(f\"Duration: {self.duration} hours\")\n",
        "\n",
        "\n",
        "# Test cases\n",
        "book1 = Book(\"The Great Gatsby\", \"F. Scott Fitzgerald\", 1925, \"Fiction\")\n",
        "dvd1 = DVD(\"Inception\", \"Christopher Nolan\", 2010, 148)\n",
        "audiobook1 = Audiobook(\"Hunger Games\", \"Suzanne Collins\", 2008, \"Sissy Spacek\", 1o)\n",
        "\n",
        "book1.display_info()\n",
        "print()\n",
        "\n",
        "dvd1.display_info()\n",
        "print()\n",
        "\n",
        "audiobook1.display_info()\n"
      ],
      "metadata": {
        "colab": {
          "base_uri": "https://localhost:8080/"
        },
        "id": "WLgt74-ycwcn",
        "outputId": "7211a6ad-37e9-450a-8a19-feaaabb21efa"
      },
      "execution_count": 9,
      "outputs": [
        {
          "output_type": "stream",
          "name": "stdout",
          "text": [
            "The Great Gatsby by F. Scott Fitzgerald (1925)\n",
            "Genre: Fiction\n",
            "\n",
            "Inception by Christopher Nolan (2010)\n",
            "Duration: 148 minutes\n",
            "\n",
            "To Kill a Mockingbird by Harper Lee (1960)\n",
            "Narrated by Sissy Spacek\n",
            "Duration: 12 minutes\n"
          ]
        }
      ]
    }
  ]
}