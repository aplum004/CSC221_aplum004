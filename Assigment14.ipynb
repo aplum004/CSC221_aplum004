{
  "nbformat": 4,
  "nbformat_minor": 0,
  "metadata": {
    "colab": {
      "provenance": [],
      "authorship_tag": "ABX9TyO5EuDmEojiOZ0SHQJUiPLL",
      "include_colab_link": true
    },
    "kernelspec": {
      "name": "python3",
      "display_name": "Python 3"
    },
    "language_info": {
      "name": "python"
    }
  },
  "cells": [
    {
      "cell_type": "markdown",
      "metadata": {
        "id": "view-in-github",
        "colab_type": "text"
      },
      "source": [
        "<a href=\"https://colab.research.google.com/github/aplum004/CSC221_aplum004/blob/main/Assigment14.ipynb\" target=\"_parent\"><img src=\"https://colab.research.google.com/assets/colab-badge.svg\" alt=\"Open In Colab\"/></a>"
      ]
    },
    {
      "cell_type": "code",
      "execution_count": 14,
      "metadata": {
        "colab": {
          "base_uri": "https://localhost:8080/"
        },
        "id": "_0-6TysDnM3h",
        "outputId": "86fff650-5cf9-48e0-911c-ec14c3525af5"
      },
      "outputs": [
        {
          "output_type": "stream",
          "name": "stdout",
          "text": [
            "Tell me a number: rjfjdkxmf\n",
            "Sorry but you cant do dat\n",
            "0.0\n"
          ]
        }
      ],
      "source": [
        "\n",
        "num = input(\"Tell me a number: \")\n",
        "numlist = []\n",
        "numlist = num.split(' ')\n",
        "\n",
        "class Calc():\n",
        "  def __init__(self, *args):\n",
        "    self.a = int(args[0])\n",
        "    self.b = int(args[1])\n",
        "\n",
        "  def add(self):\n",
        "    return self.a + self.b\n",
        "  def sub(self):\n",
        "    return self.a - self.b\n",
        "  def mul(self):\n",
        "    return self.a * self.b\n",
        "  def div(self):\n",
        "    return self.a / self.b\n",
        "\n",
        "\n",
        "\n",
        "try:\n",
        "  if numlist[1] == '+':\n",
        "    result = Calc(numlist[0], numlist[2]).add()\n",
        "  elif numlist[1] == '-':\n",
        "    result = Calc(numlist[0], numlist[2]).sub()\n",
        "  elif numlist[1] == '*':\n",
        "    result = Calc(numlist[0], numlist[2]).mul()\n",
        "  elif numlist[1] == '/':\n",
        "    result = Calc(numlist[0], numlist[2]).div()\n",
        "except:\n",
        "  print(f'Sorry but you cant do dat')\n",
        "\n",
        "print(result)\n",
        "\n",
        "\n",
        "\n"
      ]
    },
    {
      "cell_type": "code",
      "source": [
        "import difflib\n",
        "\n",
        "def replace_text(line):\n",
        "    replacements = {\n",
        "        'platsburgh': 'plattsburgh',\n",
        "        'plattsburg': 'plattsburgh',\n",
        "        'plattsburghh': 'plattsburgh',\n",
        "        'plattsberg': 'plattsburgh',\n",
        "        'platsburg': 'plattsburgh',\n",
        "        'nnn': 'nn',\n",
        "        '++': '+',\n",
        "        '_dot_com': '.com',\n",
        "        'swiming': 'swimming',\n",
        "        '0O': '00',\n",
        "        'O0': '00',\n",
        "        '_': ' '\n",
        "    }\n",
        "    for search, replace in replacements.items():\n",
        "        line = line.replace(search, replace)\n",
        "    return line\n",
        "\n",
        "def read_file_lines(filename):\n",
        "    try:\n",
        "        with open(filename) as file_object:\n",
        "            return file_object.readlines()\n",
        "    except FileNotFoundError:\n",
        "        print(f\"Error: File '{filename}' not found.\")\n",
        "        return []\n",
        "    except Exception as e:\n",
        "        print(f\"Error reading file '{filename}': {e}\")\n",
        "        return []\n",
        "\n",
        "def write_file_lines(filename, lines):\n",
        "    try:\n",
        "        with open(filename, 'w') as file_object:\n",
        "            file_object.writelines(lines)\n",
        "    except Exception as e:\n",
        "        print(f\"Error writing to file '{filename}': {e}\")\n",
        "\n",
        "def compare_files(file1, file2):\n",
        "    try:\n",
        "        with open(file1) as source_file, open(file2) as corrected_file:\n",
        "            source_lines = source_file.readlines()\n",
        "            corrected_lines = corrected_file.readlines()\n",
        "            d = difflib.Differ()\n",
        "            diff = list(d.compare(source_lines, corrected_lines))\n",
        "            if not any(line.startswith('-') or line.startswith('+') for line in diff):\n",
        "                print('Files are the same.')\n",
        "            else:\n",
        "                print('Files are different.')\n",
        "                for line in diff:\n",
        "                    print(line.strip())\n",
        "    except FileNotFoundError as e:\n",
        "        print(f\"Error: {e}\")\n",
        "\n",
        "# Read and process input files\n",
        "records = []\n",
        "\n",
        "for filename in ['as_received1.txt', 'as_received2.txt', 'as_received3.txt']:\n",
        "    lines = read_file_lines(filename)\n",
        "    records.extend(lines)\n",
        "\n",
        "# Perform text replacements\n",
        "records = list(set([replace_text(record) for record in records]))\n",
        "records.sort()\n",
        "\n",
        "# Write to corrected.txt\n",
        "write_file_lines('corrected.txt', records)\n",
        "\n",
        "# Compare corrected.txt with source.txt\n",
        "compare_files('source.txt', 'corrected.txt')\n"
      ],
      "metadata": {
        "colab": {
          "base_uri": "https://localhost:8080/"
        },
        "id": "TD9Vdmh2Rfg8",
        "outputId": "f129d2a5-ac53-4c8b-bcd6-464a828dc99a"
      },
      "execution_count": 15,
      "outputs": [
        {
          "output_type": "stream",
          "name": "stdout",
          "text": [
            "Error: File 'as_received1.txt' not found.\n",
            "Error: File 'as_received2.txt' not found.\n",
            "Error: File 'as_received3.txt' not found.\n",
            "Error: [Errno 2] No such file or directory: 'source.txt'\n"
          ]
        }
      ]
    }
  ]
}