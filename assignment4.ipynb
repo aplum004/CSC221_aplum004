{
  "nbformat": 4,
  "nbformat_minor": 0,
  "metadata": {
    "colab": {
      "provenance": [],
      "authorship_tag": "ABX9TyPbgMF49EhsX4pgHeGOCpoR",
      "include_colab_link": true
    },
    "kernelspec": {
      "name": "python3",
      "display_name": "Python 3"
    },
    "language_info": {
      "name": "python"
    }
  },
  "cells": [
    {
      "cell_type": "markdown",
      "metadata": {
        "id": "view-in-github",
        "colab_type": "text"
      },
      "source": [
        "<a href=\"https://colab.research.google.com/github/aplum004/CSC221_aplum004/blob/main/assignment4.ipynb\" target=\"_parent\"><img src=\"https://colab.research.google.com/assets/colab-badge.svg\" alt=\"Open In Colab\"/></a>"
      ]
    },
    {
      "cell_type": "code",
      "execution_count": 2,
      "metadata": {
        "id": "qlIU_ZFvBZn2",
        "colab": {
          "base_uri": "https://localhost:8080/"
        },
        "outputId": "25a36124-cc55-4e5b-9a4d-004908e34e39"
      },
      "outputs": [
        {
          "output_type": "stream",
          "name": "stdout",
          "text": [
            "Akeilah\n",
            "Amelia\n",
            "Clowe\n"
          ]
        }
      ],
      "source": [
        "names = ['Akeilah', 'Amelia', 'Clowe']\n",
        "print(names[0])\n",
        "print(names[1])\n",
        "print(names[2])"
      ]
    },
    {
      "cell_type": "code",
      "source": [
        "#Multiples of 7\n",
        "x = 7\n",
        "multiples = [[x**3] for x in range (60,86)]\n",
        "print(multiples)"
      ],
      "metadata": {
        "colab": {
          "base_uri": "https://localhost:8080/"
        },
        "id": "ZI662uhl8mEz",
        "outputId": "e52529ef-e033-47a7-8b3c-8a6d2a31cb15"
      },
      "execution_count": 10,
      "outputs": [
        {
          "output_type": "stream",
          "name": "stdout",
          "text": [
            "[[216000], [226981], [238328], [250047], [262144], [274625], [287496], [300763], [314432], [328509], [343000], [357911], [373248], [389017], [405224], [421875], [438976], [456533], [474552], [493039], [512000], [531441], [551368], [571787], [592704], [614125]]\n"
          ]
        }
      ]
    },
    {
      "cell_type": "code",
      "source": [
        "values = [40, 50, 120, -8 , 6]\n",
        "formula = 7.4 * values[0] + 51\n",
        "formula1 = 7.4 * values[1] + 51\n",
        "formula2 = 7.4 * values[2] + 51\n",
        "formula3 = 7.4 * values[3] + 51\n",
        "formula4 = 7.4 * values[4] + 51\n",
        "print(formula)\n",
        "print(formula1)\n",
        "print(formula2)\n",
        "print(formula3)\n",
        "print(formula4)"
      ],
      "metadata": {
        "colab": {
          "base_uri": "https://localhost:8080/"
        },
        "id": "-9djZnNr8_VS",
        "outputId": "d1df28fc-105f-45b9-84fa-4f6e1bb65cf2"
      },
      "execution_count": 18,
      "outputs": [
        {
          "output_type": "stream",
          "name": "stdout",
          "text": [
            "347.0\n",
            "421.0\n",
            "939.0\n",
            "-8.200000000000003\n",
            "95.4\n"
          ]
        }
      ]
    }
  ]
}