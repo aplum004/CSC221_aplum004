{
  "nbformat": 4,
  "nbformat_minor": 0,
  "metadata": {
    "colab": {
      "provenance": [],
      "authorship_tag": "ABX9TyPLXWGOOd9ZCvtVX/oLYAn9",
      "include_colab_link": true
    },
    "kernelspec": {
      "name": "python3",
      "display_name": "Python 3"
    },
    "language_info": {
      "name": "python"
    }
  },
  "cells": [
    {
      "cell_type": "markdown",
      "metadata": {
        "id": "view-in-github",
        "colab_type": "text"
      },
      "source": [
        "<a href=\"https://colab.research.google.com/github/aplum004/CSC221_aplum004/blob/main/Assignment9.ipynb\" target=\"_parent\"><img src=\"https://colab.research.google.com/assets/colab-badge.svg\" alt=\"Open In Colab\"/></a>"
      ]
    },
    {
      "cell_type": "code",
      "execution_count": null,
      "metadata": {
        "colab": {
          "base_uri": "https://localhost:8080/"
        },
        "id": "x1Jlz6Ygusv7",
        "outputId": "25749cf6-6de6-4106-be66-a24a89224340"
      },
      "outputs": [
        {
          "output_type": "stream",
          "name": "stdout",
          "text": [
            "One of my favorites books is Alice In Wonderland\n"
          ]
        }
      ],
      "source": [
        "def favorite_book(title):\n",
        "  print(\"One of my favorites books is \" + title.title())\n",
        "\n",
        "favorite_book('Alice in wonderland')\n"
      ]
    },
    {
      "cell_type": "code",
      "source": [
        "def make_shirt(size_shirt, message_shirt):\n",
        "  print(\"Your shirt is a \" + size_shirt + \" and it says \" + message_shirt)\n",
        "\n",
        "make_shirt('small', 'Your great')\n",
        "make_shirt(size_shirt='medium', message_shirt= 'Worlds smallest human')\n"
      ],
      "metadata": {
        "colab": {
          "base_uri": "https://localhost:8080/"
        },
        "id": "eVNEVb6iuD9l",
        "outputId": "b50160ae-9230-44af-942b-684482ef7f57"
      },
      "execution_count": null,
      "outputs": [
        {
          "output_type": "stream",
          "name": "stdout",
          "text": [
            "Your shirt is a small and it says Your great\n",
            "Your shirt is a medium and it says Worlds smallest human\n"
          ]
        }
      ]
    },
    {
      "cell_type": "code",
      "source": [
        "def make_shirt(size_shirt = 'large', message_shirt = 'I love Python'):\n",
        "  print(\"Your shirt is a \" + size_shirt + \" and it says \" + message_shirt)\n",
        "\n",
        "make_shirt()\n",
        "make_shirt('medium')\n",
        "make_shirt('small', 'Tiny Cat')"
      ],
      "metadata": {
        "colab": {
          "base_uri": "https://localhost:8080/"
        },
        "id": "rIqMVN6_xIKR",
        "outputId": "3e850281-c544-4b8c-f77c-25c7419e0b52"
      },
      "execution_count": null,
      "outputs": [
        {
          "output_type": "stream",
          "name": "stdout",
          "text": [
            "Your shirt is a large and it says I love Python\n",
            "Your shirt is a medium and it says I love Python\n",
            "Your shirt is a small and it says Tiny Cat\n"
          ]
        }
      ]
    },
    {
      "cell_type": "code",
      "source": [
        "def make_car(manufacturer, model, **car_info):\n",
        "    car_info['manufacturer'] = manufacturer\n",
        "    car_info['model'] = model\n",
        "    return car_info\n",
        "\n",
        "\n",
        "cars = make_car('tesla', 'X', color = 'red', tow_package = True)\n",
        "print(cars)\n",
        "\n"
      ],
      "metadata": {
        "id": "lmdNyXPwyFkb",
        "colab": {
          "base_uri": "https://localhost:8080/"
        },
        "outputId": "2eab7c5d-598b-44e1-bc83-93bfe1b10c92"
      },
      "execution_count": null,
      "outputs": [
        {
          "output_type": "stream",
          "name": "stdout",
          "text": [
            "{'color': 'red', 'tow_package': True, 'manufacturer': 'tesla', 'model': 'X'}\n"
          ]
        }
      ]
    },
    {
      "cell_type": "code",
      "source": [
        "def sum(a, b=3.14):\n",
        "  x = a + b\n",
        "  sorted_num = sorted([a, b])\n",
        "  return x, sorted_num\n",
        "  print(\"Sum equals: \")\n",
        "sum(4,5)\n",
        "sum(4)"
      ],
      "metadata": {
        "id": "QZvApG1HKNpM",
        "colab": {
          "base_uri": "https://localhost:8080/"
        },
        "outputId": "e1378bed-f7a2-4217-c220-029235867999"
      },
      "execution_count": 16,
      "outputs": [
        {
          "output_type": "execute_result",
          "data": {
            "text/plain": [
              "(7.140000000000001, [3.14, 4])"
            ]
          },
          "metadata": {},
          "execution_count": 16
        }
      ]
    },
    {
      "cell_type": "code",
      "source": [
        "def sum(a, b=3.14, verbose=False):\n",
        "  x = a + b\n",
        "  sorted_num = sorted([a, b])\n",
        "  if verbose:\n",
        "    print(f'Num1:{a},Num2{b}')\n",
        "    print(f'Sum: {x}')\n",
        "    print(f'Sorted Nums: [sorted_num]')\n",
        "\n",
        "  return x, sorted_num\n",
        "  print(\"Sum equals: \")\n",
        "sum(4,5)\n",
        "sum(4, verbose=True)\n"
      ],
      "metadata": {
        "colab": {
          "base_uri": "https://localhost:8080/"
        },
        "id": "4qtZDCwX5PeN",
        "outputId": "4a40c43f-d585-4fbe-b777-b703d18f2f9f"
      },
      "execution_count": 19,
      "outputs": [
        {
          "output_type": "stream",
          "name": "stdout",
          "text": [
            "Num1:4,Num23.14\n",
            "Sum: 7.140000000000001\n",
            "Sorted Nums: [sorted_num]\n"
          ]
        },
        {
          "output_type": "execute_result",
          "data": {
            "text/plain": [
              "(7.140000000000001, [3.14, 4])"
            ]
          },
          "metadata": {},
          "execution_count": 19
        }
      ]
    }
  ]
}