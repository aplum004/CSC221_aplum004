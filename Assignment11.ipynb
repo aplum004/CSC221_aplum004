{
  "nbformat": 4,
  "nbformat_minor": 0,
  "metadata": {
    "colab": {
      "provenance": [],
      "authorship_tag": "ABX9TyNOv/8VlZPcg2iIW5dU2uLO",
      "include_colab_link": true
    },
    "kernelspec": {
      "name": "python3",
      "display_name": "Python 3"
    },
    "language_info": {
      "name": "python"
    }
  },
  "cells": [
    {
      "cell_type": "markdown",
      "metadata": {
        "id": "view-in-github",
        "colab_type": "text"
      },
      "source": [
        "<a href=\"https://colab.research.google.com/github/aplum004/CSC221_aplum004/blob/main/Assignment11.ipynb\" target=\"_parent\"><img src=\"https://colab.research.google.com/assets/colab-badge.svg\" alt=\"Open In Colab\"/></a>"
      ]
    },
    {
      "cell_type": "code",
      "source": [
        "class Dog():\n",
        " \"\"\"A simple attempt to model a dog.\"\"\"\n",
        "\n",
        " def __init__(self, name, age):\n",
        "  self.name = name\n",
        "  self.age = age\n",
        "\n",
        " def sit(self):\n",
        "  print(self.name.title() + \" is now sitting.\")\n",
        " def roll_over(self):\n",
        "  print(self.name.title() + \" rolled over!\")\n",
        "\n",
        "\n",
        " my_dog = Dog('willie', 6)\n",
        " print(\"My dog's name is \" + my_dog.name.title() + \".\")\n",
        " print(\"My dog is \" + str(my_dog.age) + \" years old.\")"
      ],
      "metadata": {
        "id": "VfE9lq07CuZ7"
      },
      "execution_count": null,
      "outputs": []
    },
    {
      "cell_type": "code",
      "source": [
        "class Car():\n",
        "\n",
        " def __init__(self, make, model, year):\n",
        "  self.make = make\n",
        "  self.model = model\n",
        "  self.year = year\n",
        "  self.odometer_reading = 0\n",
        "\n",
        " def get_descriptive_name(self):\n",
        "  long_name = str(self.year) + ' ' + self.make + ' ' + self.model\n",
        "  return long_name.title()\n",
        "\n",
        " def read_odometer(self):\n",
        "   print(\"This car has \" + str(self.odometer_reading) + \" miles on it.\")\n",
        "\n",
        "my_new_car = Car('audi', 'a4', 2016)\n",
        "print(my_new_car.get_descriptive_name())\n",
        "my_new_car.read_odometer()\n",
        "\n",
        "class ElectricCar(Car):\n",
        " \"\"\"Represent aspects of a car, specific to electric vehicles.\"\"\"\n",
        "\n",
        " def __init__(self, make, model, year):\n",
        " \"\"\"Initialize attributes of the parent class.\"\"\"\n",
        "   super().__init__(make, model, year)\n",
        "\n",
        " my_tesla = ElectricCar('tesla', 'model s', 2016)\n",
        "  print(my_tesla.get_descriptive_name())"
      ],
      "metadata": {
        "id": "Dz3ne1SMeUjb"
      },
      "execution_count": null,
      "outputs": []
    },
    {
      "cell_type": "code",
      "execution_count": 5,
      "metadata": {
        "colab": {
          "base_uri": "https://localhost:8080/"
        },
        "id": "IF1sI8OkcHf0",
        "outputId": "45fa9049-9e3f-4774-83aa-22c65fefe6ec"
      },
      "outputs": [
        {
          "output_type": "stream",
          "name": "stdout",
          "text": [
            "The Door\n",
            "Jamaican\n",
            "The The Door is now open\n"
          ]
        }
      ],
      "source": [
        "class Restaurant():\n",
        "  def __init__(self,restaurant_name, cuisane_type):\n",
        "    self.restaurant_name = restaurant_name\n",
        "    self.cuisane_type = cuisane_type\n",
        "\n",
        "  def describe_restaurant(self):\n",
        "    print(self.restaurant_name)\n",
        "    print(self.cuisane_type)\n",
        "\n",
        "  def open_restaurant(self):\n",
        "    print(\"The \" +self.restaurant_name+ \" is now open\")\n",
        "restaurant = Restaurant('The Door', 'Jamaican')\n",
        "\n",
        "restaurant.describe_restaurant()\n",
        "restaurant.open_restaurant()"
      ]
    },
    {
      "cell_type": "code",
      "source": [
        "restaurant1 = Restaurant('Red Lobster', 'Seafood')\n",
        "restaurant2 = Restaurant('Olive Garden', 'Italian')\n",
        "restaurant3 = Restaurant('Panda Express', 'Chinese')\n",
        "\n",
        "print(restaurant1)\n",
        "restaurant1.describe_restaurant()\n",
        "\n",
        "print(restaurant2)\n",
        "restaurant2.describe_restaurant()\n",
        "\n",
        "print(restaurant3)\n",
        "restaurant3.describe_restaurant()"
      ],
      "metadata": {
        "colab": {
          "base_uri": "https://localhost:8080/"
        },
        "id": "qolYAvln_cWX",
        "outputId": "11215758-e2d1-4f69-e1d8-0529161f14fe"
      },
      "execution_count": 7,
      "outputs": [
        {
          "output_type": "stream",
          "name": "stdout",
          "text": [
            "<__main__.Restaurant object at 0x7eb63227cfa0>\n",
            "Red Lobster\n",
            "Seafood\n",
            "<__main__.Restaurant object at 0x7eb63227d420>\n",
            "Olive Garden\n",
            "Italian\n",
            "<__main__.Restaurant object at 0x7eb63227ff70>\n",
            "Panda Express\n",
            "Chinese\n"
          ]
        }
      ]
    },
    {
      "cell_type": "code",
      "source": [
        "class User():\n",
        "  def __init__(self, first_name, last_name, age, address, birthday, email):\n",
        "    self.first_name = first_name\n",
        "    self.last_name = last_name\n",
        "    self.age = age\n",
        "    self.address = address\n",
        "    self.birthday = birthday\n",
        "    self.email = email\n",
        "\n",
        "  def describe_user(self):\n",
        "    print(f'Name: {self.first_name}{self.last_name}')\n",
        "    print(f'Age: {self.age}')\n",
        "    print(f'Address: {self.address}')\n",
        "    print(f'Birthday: {self.birthday}')\n",
        "    print(f'Email: {self.email}')\n",
        "\n",
        "  def greet_user(self):\n",
        "    print(f'Hello, {self.first_name} {self.last_name}!')\n",
        "\n",
        "user1 = User('Adam', 'Sandler', '34', 'New York', 'Jan 7', 'asand56@gmail.com')\n",
        "user2 = User('Foxy','Brown', '19', 'Washington', 'Mar 24', 'fbrow78@gmail.com')\n",
        "user3 = User('Corline','Bedlam', '52', 'Atlanta', 'Jul 27', 'cbedl6@gmail.com')\n",
        "\n",
        "print(user1)\n",
        "user1.describe_user()\n",
        "user1.greet_user()\n",
        "print(user2)\n",
        "user2.describe_user()\n",
        "user2.greet_user()\n",
        "print(user3)\n",
        "user3.describe_user()\n",
        "user3.greet_user()\n",
        "\n"
      ],
      "metadata": {
        "colab": {
          "base_uri": "https://localhost:8080/"
        },
        "id": "SltWFHnaEcfG",
        "outputId": "38136fab-fdd9-42a1-911c-8d5b7167678e"
      },
      "execution_count": 10,
      "outputs": [
        {
          "output_type": "stream",
          "name": "stdout",
          "text": [
            "<__main__.User object at 0x7eb61c42f970>\n",
            "Name: AdamSandler\n",
            "Age: 34\n",
            "Address: New York\n",
            "Birthday: Jan 7\n",
            "Email: asand56@gmail.com\n",
            "Hello, Adam Sandler!\n",
            "<__main__.User object at 0x7eb61c42cb50>\n",
            "Name: FoxyBrown\n",
            "Age: 19\n",
            "Address: Washington\n",
            "Birthday: Mar 24\n",
            "Email: fbrow78@gmail.com\n",
            "Hello, Foxy Brown!\n",
            "<__main__.User object at 0x7eb61c42cd90>\n",
            "Name: CorlineBedlam\n",
            "Age: 52\n",
            "Address: Atlanta\n",
            "Birthday: Jul 27\n",
            "Email: cbedl6@gmail.com\n",
            "Hello, Corline Bedlam!\n"
          ]
        }
      ]
    },
    {
      "cell_type": "code",
      "source": [
        "class Restaurant():\n",
        "  def __init__(self,restaurant_name, cuisane_type):\n",
        "    self.restaurant_name = restaurant_name\n",
        "    self.cuisane_type = cuisane_type\n",
        "\n",
        "  def describe_restaurant(self):\n",
        "    print(self.restaurant_name)\n",
        "    print(self.cuisane_type)\n",
        "\n",
        "  def open_restaurant(self):\n",
        "    print(\"The \" +self.restaurant_name+ \" is now open\")\n",
        "restaurant = Restaurant('The Door', 'Jamaican')\n",
        "\n",
        "restaurant.describe_restaurant()\n",
        "restaurant.open_restaurant()\n",
        "\n",
        "class IceCreamStand(Restaurant):\n",
        "  def __init__(self,restaurant_name,cuisane_type,flavors):\n",
        "    super().__init__(restaurant_name, cuisane_type)\n",
        "    self.flavors = flavors\n",
        "\n",
        "  def display_flavors(self):\n",
        "    print(self.flavors)\n",
        "\n",
        "flavor1 = IceCreamStand('Cold Stone Creamy','Ice Cream','strawberry')\n",
        "flavor1.display_flavors()\n",
        "flavor1.describe_restaurant()\n",
        "flavor1.open_restaurant()\n"
      ],
      "metadata": {
        "colab": {
          "base_uri": "https://localhost:8080/"
        },
        "id": "knC0R93eOrcr",
        "outputId": "e1c18377-8fb7-41f7-af8d-70a8df76b8ff"
      },
      "execution_count": 2,
      "outputs": [
        {
          "output_type": "stream",
          "name": "stdout",
          "text": [
            "The Door\n",
            "Jamaican\n",
            "The The Door is now open\n",
            "strawberry\n",
            "Cold Stone Creamy\n",
            "Ice Cream\n",
            "The Cold Stone Creamy is now open\n"
          ]
        }
      ]
    },
    {
      "cell_type": "code",
      "source": [
        "class User():\n",
        "  def __init__(self, first_name, last_name, age, address, birthday, email):\n",
        "    self.first_name = first_name\n",
        "    self.last_name = last_name\n",
        "    self.age = age\n",
        "    self.address = address\n",
        "    self.birthday = birthday\n",
        "    self.email = email\n",
        "\n",
        "  def describe_user(self):\n",
        "    print(f'Name: {self.first_name}{self.last_name}')\n",
        "    print(f'Age: {self.age}')\n",
        "    print(f'Address: {self.address}')\n",
        "    print(f'Birthday: {self.birthday}')\n",
        "    print(f'Email: {self.email}')\n",
        "\n",
        "  def greet_user(self):\n",
        "    print(f'Hello, {self.first_name} {self.last_name}!')\n",
        "\n",
        "class Admin(User):\n",
        "  def __init__(self,first_name, last_name, age, address, birthday, email, privileges):\n",
        "    super().__init__(first_name, last_name, age, address, birthday, email)\n",
        "    self.privileges = privileges\n",
        "\n",
        "\n",
        "  def show_privileges(self):\n",
        "    print(self.privileges)\n",
        "admin = Admin('Chanel', 'Blake', '67','Miami','8/04/1987', 'cblak099@gmail.com',  ['can add post', 'can delete post', 'can ban user'])\n",
        "admin.describe_user()\n",
        "admin.greet_user()\n",
        "admin.show_privileges()"
      ],
      "metadata": {
        "colab": {
          "base_uri": "https://localhost:8080/"
        },
        "id": "Z9PqN677hg_1",
        "outputId": "b3fd9e48-a52c-4554-ba5f-63ea06da24d8"
      },
      "execution_count": 5,
      "outputs": [
        {
          "output_type": "stream",
          "name": "stdout",
          "text": [
            "Name: ChanelBlake\n",
            "Age: 67\n",
            "Address: Miami\n",
            "Birthday: 8/04/1987\n",
            "Email: cblak099@gmail.com\n",
            "Hello, Chanel Blake!\n",
            "['can add post', 'can delete post', 'can ban user']\n"
          ]
        }
      ]
    }
  ]
}