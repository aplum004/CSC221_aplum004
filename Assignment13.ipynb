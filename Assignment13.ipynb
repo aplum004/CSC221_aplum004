{
  "nbformat": 4,
  "nbformat_minor": 0,
  "metadata": {
    "colab": {
      "provenance": [],
      "include_colab_link": true
    },
    "kernelspec": {
      "name": "python3",
      "display_name": "Python 3"
    },
    "language_info": {
      "name": "python"
    }
  },
  "cells": [
    {
      "cell_type": "markdown",
      "metadata": {
        "id": "view-in-github",
        "colab_type": "text"
      },
      "source": [
        "<a href=\"https://colab.research.google.com/github/aplum004/CSC221_aplum004/blob/main/Assignment13.ipynb\" target=\"_parent\"><img src=\"https://colab.research.google.com/assets/colab-badge.svg\" alt=\"Open In Colab\"/></a>"
      ]
    },
    {
      "cell_type": "code",
      "source": [
        "%%file learning_python.txt\n",
        "In Python you can make programs\n",
        "In Python you can use for loops\n",
        "In Python you can open files"
      ],
      "metadata": {
        "colab": {
          "base_uri": "https://localhost:8080/"
        },
        "id": "71UF6mIKSmee",
        "outputId": "470be270-8a26-469e-dd38-66cb57ad5626"
      },
      "execution_count": 46,
      "outputs": [
        {
          "output_type": "stream",
          "name": "stdout",
          "text": [
            "Overwriting learning_python.txt\n"
          ]
        }
      ]
    },
    {
      "cell_type": "code",
      "source": [
        "with open('learning_python.txt', 'r') as file:\n",
        "    content = file.read()\n",
        "    print(\"Method 1:\")\n",
        "    print(content)\n",
        "with open('learning_python.txt', 'r') as file:\n",
        "    print(\"\\nMethod 2:\")\n",
        "    for line in file:\n",
        "        print(line, end='')\n",
        "with open('learning_python.txt', 'r') as file:\n",
        "    lines = file.readlines()\n",
        "    print(\"\\nMethod 3:\")\n",
        "    for line in lines:\n",
        "        print(line, end='')"
      ],
      "metadata": {
        "colab": {
          "base_uri": "https://localhost:8080/"
        },
        "id": "67v6m8X9mllk",
        "outputId": "a7aa53f7-b590-49da-dc84-7dff6e38e6bb"
      },
      "execution_count": 47,
      "outputs": [
        {
          "output_type": "stream",
          "name": "stdout",
          "text": [
            "Method 1:\n",
            "In Python you can make programs\n",
            "In Python you can use for loops\n",
            "In Python you can open files\n",
            "\n",
            "\n",
            "Method 2:\n",
            "In Python you can make programs\n",
            "In Python you can use for loops\n",
            "In Python you can open files\n",
            "\n",
            "Method 3:\n",
            "In Python you can make programs\n",
            "In Python you can use for loops\n",
            "In Python you can open files\n"
          ]
        }
      ]
    },
    {
      "cell_type": "code",
      "source": [
        "\n",
        "while True:\n",
        "\n",
        "    user_name = input(\"Enter your name (type 'exit' to end): \")\n",
        "\n",
        "\n",
        "    if user_name.lower() == 'exit':\n",
        "        break\n",
        "\n",
        "\n",
        "    print(f\"Hello, {user_name}! Welcome!\")\n",
        "\n",
        "\n",
        "    with open('guest_book.txt', 'a') as guest_book:\n",
        "        guest_book.write(f\"{user_name}\\n\")\n",
        "\n",
        "print(\"Thank you for visiting!\")\n"
      ],
      "metadata": {
        "colab": {
          "base_uri": "https://localhost:8080/",
          "height": 408
        },
        "id": "SF3YdLJ_nDJt",
        "outputId": "c947feb8-8652-446e-8636-d4237cc1040e"
      },
      "execution_count": 49,
      "outputs": [
        {
          "output_type": "error",
          "ename": "KeyboardInterrupt",
          "evalue": "ignored",
          "traceback": [
            "\u001b[0;31m---------------------------------------------------------------------------\u001b[0m",
            "\u001b[0;31mKeyboardInterrupt\u001b[0m                         Traceback (most recent call last)",
            "\u001b[0;32m<ipython-input-49-95238db7b3b4>\u001b[0m in \u001b[0;36m<cell line: 1>\u001b[0;34m()\u001b[0m\n\u001b[1;32m      1\u001b[0m \u001b[0;32mwhile\u001b[0m \u001b[0;32mTrue\u001b[0m\u001b[0;34m:\u001b[0m\u001b[0;34m\u001b[0m\u001b[0;34m\u001b[0m\u001b[0m\n\u001b[1;32m      2\u001b[0m \u001b[0;34m\u001b[0m\u001b[0m\n\u001b[0;32m----> 3\u001b[0;31m     \u001b[0muser_name\u001b[0m \u001b[0;34m=\u001b[0m \u001b[0minput\u001b[0m\u001b[0;34m(\u001b[0m\u001b[0;34m\"Enter your name (type 'exit' to end): \"\u001b[0m\u001b[0;34m)\u001b[0m\u001b[0;34m\u001b[0m\u001b[0;34m\u001b[0m\u001b[0m\n\u001b[0m\u001b[1;32m      4\u001b[0m \u001b[0;34m\u001b[0m\u001b[0m\n\u001b[1;32m      5\u001b[0m \u001b[0;34m\u001b[0m\u001b[0m\n",
            "\u001b[0;32m/usr/local/lib/python3.10/dist-packages/ipykernel/kernelbase.py\u001b[0m in \u001b[0;36mraw_input\u001b[0;34m(self, prompt)\u001b[0m\n\u001b[1;32m    849\u001b[0m                 \u001b[0;34m\"raw_input was called, but this frontend does not support input requests.\"\u001b[0m\u001b[0;34m\u001b[0m\u001b[0;34m\u001b[0m\u001b[0m\n\u001b[1;32m    850\u001b[0m             )\n\u001b[0;32m--> 851\u001b[0;31m         return self._input_request(str(prompt),\n\u001b[0m\u001b[1;32m    852\u001b[0m             \u001b[0mself\u001b[0m\u001b[0;34m.\u001b[0m\u001b[0m_parent_ident\u001b[0m\u001b[0;34m,\u001b[0m\u001b[0;34m\u001b[0m\u001b[0;34m\u001b[0m\u001b[0m\n\u001b[1;32m    853\u001b[0m             \u001b[0mself\u001b[0m\u001b[0;34m.\u001b[0m\u001b[0m_parent_header\u001b[0m\u001b[0;34m,\u001b[0m\u001b[0;34m\u001b[0m\u001b[0;34m\u001b[0m\u001b[0m\n",
            "\u001b[0;32m/usr/local/lib/python3.10/dist-packages/ipykernel/kernelbase.py\u001b[0m in \u001b[0;36m_input_request\u001b[0;34m(self, prompt, ident, parent, password)\u001b[0m\n\u001b[1;32m    893\u001b[0m             \u001b[0;32mexcept\u001b[0m \u001b[0mKeyboardInterrupt\u001b[0m\u001b[0;34m:\u001b[0m\u001b[0;34m\u001b[0m\u001b[0;34m\u001b[0m\u001b[0m\n\u001b[1;32m    894\u001b[0m                 \u001b[0;31m# re-raise KeyboardInterrupt, to truncate traceback\u001b[0m\u001b[0;34m\u001b[0m\u001b[0;34m\u001b[0m\u001b[0m\n\u001b[0;32m--> 895\u001b[0;31m                 \u001b[0;32mraise\u001b[0m \u001b[0mKeyboardInterrupt\u001b[0m\u001b[0;34m(\u001b[0m\u001b[0;34m\"Interrupted by user\"\u001b[0m\u001b[0;34m)\u001b[0m \u001b[0;32mfrom\u001b[0m \u001b[0;32mNone\u001b[0m\u001b[0;34m\u001b[0m\u001b[0;34m\u001b[0m\u001b[0m\n\u001b[0m\u001b[1;32m    896\u001b[0m             \u001b[0;32mexcept\u001b[0m \u001b[0mException\u001b[0m \u001b[0;32mas\u001b[0m \u001b[0me\u001b[0m\u001b[0;34m:\u001b[0m\u001b[0;34m\u001b[0m\u001b[0;34m\u001b[0m\u001b[0m\n\u001b[1;32m    897\u001b[0m                 \u001b[0mself\u001b[0m\u001b[0;34m.\u001b[0m\u001b[0mlog\u001b[0m\u001b[0;34m.\u001b[0m\u001b[0mwarning\u001b[0m\u001b[0;34m(\u001b[0m\u001b[0;34m\"Invalid Message:\"\u001b[0m\u001b[0;34m,\u001b[0m \u001b[0mexc_info\u001b[0m\u001b[0;34m=\u001b[0m\u001b[0;32mTrue\u001b[0m\u001b[0;34m)\u001b[0m\u001b[0;34m\u001b[0m\u001b[0;34m\u001b[0m\u001b[0m\n",
            "\u001b[0;31mKeyboardInterrupt\u001b[0m: Interrupted by user"
          ]
        }
      ]
    },
    {
      "cell_type": "code",
      "execution_count": 12,
      "metadata": {
        "id": "7aynL_Db1kIy"
      },
      "outputs": [],
      "source": [
        "# Assignment 13 Source File Generator\n",
        "# DO NOT MODIFY\n",
        "\n",
        "import random\n",
        "def do_x_percent(n):\n",
        "    chance = random.randint(0,99)\n",
        "    return chance < n\n",
        "\n",
        "_last_choice = \"?\"\n",
        "def choose_character(include_str, exclude_str=''):\n",
        "    global _last_choice\n",
        "    chosen_character = random.choice(include_str)\n",
        "    while chosen_character == _last_choice or chosen_character in exclude_str:\n",
        "        chosen_character = random.choice(include_str)\n",
        "\n",
        "    _last_choice = chosen_character\n",
        "    return chosen_character\n",
        "\n",
        "def rand_digit(exclude_str=''):\n",
        "    return choose_character('0123456789', exclude_str)\n",
        "\n",
        "def rand_vowel(exclude_str=''):\n",
        "    return choose_character('aeiou', exclude_str)\n",
        "\n",
        "def rand_consonant(exclude_str='qz'):\n",
        "    return choose_character('bcdfghjklmnpqrstvwyz', exclude_str)\n",
        "\n",
        "def gen_first_name():\n",
        "    name = rand_consonant().upper() + rand_vowel()\n",
        "\n",
        "    for i in range(random.randint(1, 2)):\n",
        "        name += rand_consonant()\n",
        "        name += rand_vowel()\n",
        "\n",
        "    return name\n",
        "\n",
        "def gen_last_name():\n",
        "    name = random.choice(['', '', '', '', '', 'de ', 'el '])\n",
        "    name += rand_consonant().upper() + rand_vowel()\n",
        "\n",
        "    for i in range(random.randint(2, 3)):\n",
        "        name += rand_consonant()\n",
        "        name += rand_vowel()\n",
        "        if do_x_percent(20):\n",
        "            name += rand_vowel()\n",
        "\n",
        "    return name\n",
        "\n",
        "def gen_default_email(first_name, last_name):\n",
        "    compacted_last = last_name.replace(' ', '')\n",
        "    if do_x_percent(60):\n",
        "        email = first_name[0].lower() + compacted_last[:4].lower()\n",
        "        num = random.randint(1,7)\n",
        "        email += f'{num:03d}@plattsburgh.edu'\n",
        "    else:\n",
        "        email = first_name.lower() + compacted_last[0].lower()\n",
        "        domain = random.randint(1,3)\n",
        "        if domain == 1:\n",
        "            email += '@gmail.com'\n",
        "        if domain == 2:\n",
        "            email += '@yahoo.com'\n",
        "        if domain == 3:\n",
        "            email += '@msn.com'\n",
        "\n",
        "    return email\n",
        "\n",
        "def gen_phone_number():\n",
        "    phone_number = '+' + str(random.randint(1,42))\n",
        "\n",
        "    phone_number += ' '\n",
        "    phone_number += rand_digit('0')\n",
        "    for i in range(2):\n",
        "       phone_number += rand_digit()\n",
        "\n",
        "    phone_number += ' '\n",
        "    for i in range(random.randint(3,4)):\n",
        "       phone_number += rand_digit()\n",
        "\n",
        "    phone_number += ' '\n",
        "    for i in range(random.randint(3,4)):\n",
        "       phone_number += rand_digit()\n",
        "\n",
        "    return phone_number\n",
        "\n",
        "def gen_pastimes():\n",
        "    pastime_set = set()\n",
        "    num_pastimes = random.randint(0, 4)\n",
        "\n",
        "    for i in range(num_pastimes):\n",
        "        pastime = random.choice(\n",
        "            ['tennis', 'piano', 'farming', 'fishing',\n",
        "             'coding', 'swimming', 'singing', 'airplanes', 'dancing',\n",
        "             'reading', 'saxophone', 'cards', 'hiking', 'bicycling', 'running',\n",
        "             'javelin', 'sewing', 'painting', 'poetry'])\n",
        "        pastime_set.add(pastime)\n",
        "\n",
        "    pastime_string = \"\"\n",
        "    first_time = True\n",
        "    for pastime in pastime_set:\n",
        "        if first_time:\n",
        "            first_time = False\n",
        "        else:\n",
        "            pastime_string += ', '\n",
        "            first_time = False\n",
        "        pastime_string += pastime\n",
        "\n",
        "    return pastime_string\n"
      ]
    },
    {
      "cell_type": "code",
      "source": [
        "# Assignment 13 Source File Generator\n",
        "# DO NOT MODIFY\n",
        "\n",
        "class Person:\n",
        "    def __init__(self):\n",
        "        self.first_name = gen_first_name()\n",
        "        self.last_name = gen_last_name()\n",
        "        self.email = gen_default_email(self.first_name, self.last_name)\n",
        "        self.phone_number = gen_phone_number()\n",
        "        self.pastimes = gen_pastimes()\n",
        "    def __str__(self):\n",
        "        ret = f'{self.first_name} {self.last_name}, {self.email}, {self.phone_number}'\n",
        "        if len(self.pastimes) > 0:\n",
        "          ret += f', {self.pastimes}'\n",
        "        return ret\n",
        "    def full_name(self):\n",
        "        return self.first_name + ' ' + self.last_name\n",
        "    def __lt__(self, other):\n",
        "        return self.full_name() < other.full_name()\n",
        "    def as_transmitted(self):\n",
        "        return str(self)\n",
        "    def as_received(self):\n",
        "        receive_string = self.as_transmitted()\n",
        "\n",
        "        # These are our \"typical\" random transmission errors :)\n",
        "        if do_x_percent(80):\n",
        "            receive_string = receive_string.replace('nn', 'nnn')\n",
        "        if do_x_percent(40):\n",
        "            receive_string = receive_string.replace('+', '++')\n",
        "        if do_x_percent(60):\n",
        "            receive_string = receive_string.replace('00', '0O')\n",
        "        if do_x_percent(40):\n",
        "            receive_string = receive_string.replace('.com', '_dot_com')\n",
        "        if do_x_percent(20):\n",
        "            receive_string = receive_string.replace('swimming', 'swiming')\n",
        "        if do_x_percent(20):\n",
        "            receive_string = receive_string.replace('plattsburgh', 'platsburgh')\n",
        "        if do_x_percent(20):\n",
        "            receive_string = receive_string.replace('plattsburgh', 'plattsburg')\n",
        "        if do_x_percent(20):\n",
        "            receive_string = receive_string.replace('plattsburgh', 'platsburg')\n",
        "        if do_x_percent(20):\n",
        "            receive_string = receive_string.replace('plattsburgh', 'plattsberg')\n",
        "        if do_x_percent(20):\n",
        "            receive_string = receive_string.replace(' ', '_', 7)\n",
        "\n",
        "        return receive_string\n",
        "\n",
        "# Example People and how they are garbled\n",
        "random.seed(1)\n",
        "people = [Person() for x in range(20)]\n",
        "for person in sorted(people):\n",
        "    print(person)\n",
        "    print(person.as_received())\n",
        "\n"
      ],
      "metadata": {
        "colab": {
          "base_uri": "https://localhost:8080/"
        },
        "id": "HSeKP4kK27n2",
        "outputId": "eacc253c-b437-45d7-d8ce-2939d29f26f8"
      },
      "execution_count": 13,
      "outputs": [
        {
          "output_type": "stream",
          "name": "stdout",
          "text": [
            "Banono Difiwopi, banonod@gmail.com, +20 351 7195 640, swimming, saxophone\n",
            "Banono Difiwopi, banonod@gmail.com, ++20 351 7195 640, swimming, saxophone\n",
            "Dese el Ronouteo, desee@msn.com, +27 143 8038 9093, swimming, singing\n",
            "Dese el Ronouteo, desee@msn.com, +27 143 8038 9093, swiming, singing\n",
            "Gula Sojabobo, gulas@gmail.com, +38 150 806 083, painting, airplanes, javelin\n",
            "Gula Sojabobo, gulas@gmail_dot_com, +38 150 806 083, painting, airplanes, javelin\n",
            "Hidehi Hisitaino, hhisi001@plattsburgh.edu, +17 839 0306 027, painting, airplanes, bicycling, sewing\n",
            "Hidehi Hisitaino, hhisi001@plattsburgh.edu, ++17 839 0306 027, painting, airplanes, bicycling, sewing\n",
            "Huli Vinietewa, hvini004@plattsburgh.edu, +5 625 961 914, poetry, reading\n",
            "Huli Vinietewa, hvini004@plattsburgh.edu, +5 625 961 914, poetry, reading\n",
            "Jimupe de Sufuyo, jdesu003@plattsburgh.edu, +28 390 6568 081, dancing, fishing\n",
            "Jimupe de Sufuyo, jdesu0O3@platsburgh.edu, ++28 390 6568 081, dancing, fishing\n",
            "Juyeta de Mubimaji, jdemu003@plattsburgh.edu, +28 341 8587 101, swimming\n",
            "Juyeta_de_Mubimaji,_jdemu0O3@platsburg.edu,_++28_341_8587_101, swimming\n",
            "Lukika el Noleusu, lelno005@plattsburgh.edu, +17 782 754 3134\n",
            "Lukika_el_Noleusu,_lelno005@plattsberg.edu,_++17_782_754_3134\n",
            "Megu de Cihiwei, megud@gmail.com, +29 684 8706 2470, poetry, tennis, piano\n",
            "Megu_de_Cihiwei,_megud@gmail_dot_com,_+29_684_8706_2470, poetry, tennnis, piano\n",
            "Meli Lowira, mlowi005@plattsburgh.edu, +25 341 908 2185, cards, sewing, bicycling, reading\n",
            "Meli_Lowira,_mlowi0O5@plattsburg.edu,_+25_341_908_2185,_cards, sewing, bicycling, reading\n",
            "Nute de Magohabi, nuted@yahoo.com, +35 427 2780 8196\n",
            "Nute de Magohabi, nuted@yahoo_dot_com, ++35 427 2780 8196\n",
            "Pabeve de Domejelau, pabeved@yahoo.com, +30 802 8459 686, javelin\n",
            "Pabeve de Domejelau, pabeved@yahoo_dot_com, +30 802 8459 686, javelin\n",
            "Pesi Ruhiuru, pruhi003@plattsburgh.edu, +19 978 9073 6258, farming, running\n",
            "Pesi Ruhiuru, pruhi003@plattsburg.edu, +19 978 9073 6258, farming, runnning\n",
            "Puye Liyodebe, pliyo005@plattsburgh.edu, +42 735 7365 3018, swimming, sewing\n",
            "Puye Liyodebe, pliyo005@plattsburg.edu, ++42 735 7365 3018, swimming, sewing\n",
            "Seyi de Rageidame, seyid@yahoo.com, +9 809 729 635\n",
            "Seyi de Rageidame, seyid@yahoo_dot_com, +9 809 729 635\n",
            "Tivo Pobunobe, tpobu005@plattsburgh.edu, +38 218 0107 434\n",
            "Tivo_Pobunobe,_tpobu0O5@plattsburgh.edu,_++38_218_0107_434\n",
            "Vavo Taciyuhe, vtaci001@plattsburgh.edu, +13 836 9574 682, painting, piano, bicycling, singing\n",
            "Vavo Taciyuhe, vtaci0O1@platsburg.edu, ++13 836 9574 682, painting, piano, bicycling, singing\n",
            "Vifo de Siwoyoewa, vifod@msn.com, +33 379 4279 580, poetry, bicycling, hiking\n",
            "Vifo_de_Siwoyoewa,_vifod@msn.com,_+33_379_4279_580, poetry, bicycling, hiking\n",
            "Walaci Bafakuha, wbafa006@plattsburgh.edu, +16 216 8484 5135\n",
            "Walaci Bafakuha, wbafa0O6@plattsberg.edu, ++16 216 8484 5135\n",
            "Yina Yukeodi, yyuke006@plattsburgh.edu, +5 457 2185 825, sewing, fishing\n",
            "Yina Yukeodi, yyuke006@plattsburgh.edu, ++5 457 2185 825, sewing, fishing\n"
          ]
        }
      ]
    },
    {
      "cell_type": "code",
      "source": [
        "# Assignment 13 Source File Generator\n",
        "# DO NOT MODIFY\n",
        "\n",
        "# Creates a population of Person objects\n",
        "# Writes them uncorrupted to source_file.txt\n",
        "# Writes them as received to as_received[123].txt\n",
        "# Most records go into only one file but some are duplicated in two files\n",
        "def make_files(my_name, record_count=100):\n",
        "    random.seed(hash(my_name))\n",
        "\n",
        "    people = [Person() for x in range(record_count)]\n",
        "\n",
        "    source_file = open('source.txt', 'w')\n",
        "    received_file1 = open('as_received1.txt', 'w')\n",
        "    received_file2 = open('as_received2.txt', 'w')\n",
        "    received_file3 = open('as_received3.txt', 'w')\n",
        "\n",
        "    all_files = [source_file, received_file1, received_file2, received_file3]\n",
        "\n",
        "    for file in all_files:\n",
        "        file.write('Name, Email, Phone, Pastimes\\n')\n",
        "\n",
        "    source_file_line_count = 0\n",
        "    received_file1_line_count = 0\n",
        "    received_file2_line_count = 0\n",
        "    received_file3_line_count = 0\n",
        "    for person in sorted(people):\n",
        "        source_file.write(person.as_transmitted() + '\\n')\n",
        "        source_file_line_count += 1\n",
        "\n",
        "        # These are all 3-bit numbers that have either 1 or 2 bits turned on\n",
        "        #   with a bias to a single bit\n",
        "        choice = random.choice([1, 2, 4, 1, 2, 4, 1, 2, 4, 1, 2, 4, 3, 5, 6])\n",
        "        if choice & 1:\n",
        "            received_file1.write(person.as_received() + '\\n')\n",
        "            received_file1_line_count += 1\n",
        "        if choice & 2:\n",
        "            received_file2.write(person.as_received() + '\\n')\n",
        "            received_file2_line_count += 1\n",
        "        if choice & 4:\n",
        "            received_file3.write(person.as_received() + '\\n')\n",
        "            received_file3_line_count += 1\n",
        "\n",
        "    print(f'source_file written with {source_file_line_count} lines')\n",
        "    print(f'received_file1 written with {received_file1_line_count} lines')\n",
        "    print(f'received_file2 written with {received_file2_line_count} lines')\n",
        "    print(f'received_file3 written with {received_file3_line_count} lines')\n",
        "\n",
        "    for file in all_files:\n",
        "        file.close()\n"
      ],
      "metadata": {
        "id": "ZHVptnh69iMI"
      },
      "execution_count": 14,
      "outputs": []
    },
    {
      "cell_type": "markdown",
      "source": [
        "# You Edit Below Here!\n",
        "- Put in your name to change the random number seed and get your own custom files!\n",
        "- Use a small number like 20 for the record count so your files are manageable during debug\n",
        "- Final test is done with 100000 records\n",
        "- This creates the uncorrupted file\n",
        "  - source.txt file\n",
        "- It also creates the garbles files\n",
        "  - as_received1.txt\n",
        "  - as_received2.txt\n",
        "  - as_received3.txt\n"
      ],
      "metadata": {
        "id": "kkbTFGqleDE1"
      }
    },
    {
      "cell_type": "code",
      "source": [
        "# Run this to make your data files\n",
        "\n",
        "# Put in YOUR name\n",
        "# Generate 20-50 records to debug and 100000 for your final code check\n",
        "make_files(my_name='Akeilah Plummer', record_count=20)\n"
      ],
      "metadata": {
        "colab": {
          "base_uri": "https://localhost:8080/"
        },
        "id": "lW5OIax_Aqx1",
        "outputId": "d30e9c8a-90cf-40c6-d30a-adea1ffac019"
      },
      "execution_count": 15,
      "outputs": [
        {
          "output_type": "stream",
          "name": "stdout",
          "text": [
            "source_file written with 20 lines\n",
            "received_file1 written with 9 lines\n",
            "received_file2 written with 8 lines\n",
            "received_file3 written with 7 lines\n"
          ]
        }
      ]
    },
    {
      "cell_type": "code",
      "source": [
        "import difflib\n",
        "\n",
        "def replace_text(line):\n",
        "    replacements = {\n",
        "        'platsburgh': 'plattsburgh',\n",
        "        'plattsburg': 'plattsburgh',\n",
        "        'plattsburghh': 'plattsburgh',\n",
        "        'plattsberg': 'plattsburgh',\n",
        "        'platsburg': 'plattsburgh',\n",
        "        'nnn': 'nn',\n",
        "        '++': '+',\n",
        "        '_dot_com': '.com',\n",
        "        'swiming': 'swimming',\n",
        "        '0O': '00',\n",
        "        'O0': '00',\n",
        "        '_': ' '\n",
        "    }\n",
        "    for search, replace in replacements.items():\n",
        "        line = line.replace(search, replace)\n",
        "    return line\n",
        "\n",
        "records = []\n",
        "\n",
        "# Read and process input files\n",
        "for filename in ['as_received1.txt', 'as_received2.txt', 'as_received3.txt']:\n",
        "    with open(filename) as file_object:\n",
        "        records.extend(file_object.readlines())\n",
        "\n",
        "# Perform text replacements\n",
        "records = list(set([replace_text(record) for record in records]))\n",
        "records.sort()\n",
        "\n",
        "# Write to corrected.txt\n",
        "with open('corrected.txt', 'w') as file_object:\n",
        "    file_object.writelines(records)\n",
        "\n",
        "# Compare corrected.txt with source.txt\n",
        "with open('source.txt') as source_file, open('corrected.txt') as corrected_file:\n",
        "    source_lines = source_file.readlines()\n",
        "    corrected_lines = corrected_file.readlines()\n",
        "\n",
        "    # Use difflib for detailed comparison\n",
        "    d = difflib.Differ()\n",
        "    diff = list(d.compare(source_lines, corrected_lines))\n",
        "\n",
        "    # Check if files are the same\n",
        "    if not any(line.startswith('-') or line.startswith('+') for line in diff):\n",
        "        print('Files are the same.')\n",
        "    else:\n",
        "        print('Files are different.')\n",
        "        for line in diff:\n",
        "            print(line.strip())\n"
      ],
      "metadata": {
        "colab": {
          "base_uri": "https://localhost:8080/"
        },
        "id": "9zbrfwUwKU2U",
        "outputId": "0349651b-5ae2-4db2-b5d9-556d14031a0d"
      },
      "execution_count": 43,
      "outputs": [
        {
          "output_type": "stream",
          "name": "stdout",
          "text": [
            "Files are different.\n",
            "- Name, Email, Phone, Pastimes\n",
            "Bugeli Kemifalo, bkemi007@plattsburgh.edu, +28 616 581 9405\n",
            "Ceju Pituenau, cpitu007@plattsburgh.edu, +37 207 9654 7927, swimming, cards, javelin, hiking\n",
            "Cuvati Rudoci, crudo001@plattsburgh.edu, +31 470 1578 5687, cards, bicycling, farming, coding\n",
            "Ditulu Virofi, dituluv@yahoo.com, +1 462 6751 2864, painting, saxophone, swimming\n",
            "Ficayi Kojuhe, fkoju006@plattsburgh.edu, +22 626 1684 379, coding, airplanes, sewing, running\n",
            "Gesono Gemuroa, ggemu006@plattsburgh.edu, +24 623 905 172, dancing\n",
            "Hiro Yopepue, hyope006@plattsburgh.edu, +23 850 124 1309\n",
            "Jaluno Norekihu, jnore006@plattsburgh.edu, +20 681 769 0764, swimming, farming\n",
            "Jeni de Limofuse, jdeli003@plattsburgh.edu, +39 465 9479 658, swimming, airplanes, javelin\n",
            "Kaki Huhomova, kakih@gmail.com, +18 692 458 546, tennis, airplanes, saxophone\n",
            "Kuca Wefena, kwefe002@plattsburgh.edu, +15 986 1537 0728, swimming, sewing, painting\n",
            "Lamuye Tiluwi, ltilu007@plattsburgh.edu, +34 421 2863 2106, swimming, poetry, fishing\n",
            "Lasu Wasewe, lwase001@plattsburgh.edu, +33 840 702 6715, swimming\n",
            "Maju Nubasa, majun@msn.com, +33 579 1763 8481, cards, sewing, coding\n",
            "+ Name, Email, Phone, Pastimes\n",
            "Tawofo Rijuguavae, triju007@plattsburgh.edu, +15 680 696 9269\n",
            "Tutale Cokone, tutalec@gmail.com, +21 679 6761 9871\n",
            "Vufu Bawenome, vbawe006@plattsburgh.edu, +2 747 283 145, singing\n",
            "Webe Vavomiga, webev@gmail.com, +29 107 1937 3925, dancing\n",
            "Yarenu Napitu, ynapi003@plattsburgh.edu, +29 213 2724 6142, piano, tennis, airplanes\n",
            "Yoguvu Feneca, yfene007@plattsburgh.edu, +26 213 5863 219, tennis, saxophone\n"
          ]
        }
      ]
    }
  ]
}