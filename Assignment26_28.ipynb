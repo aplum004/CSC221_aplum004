{
  "nbformat": 4,
  "nbformat_minor": 0,
  "metadata": {
    "colab": {
      "provenance": [],
      "authorship_tag": "ABX9TyPgizdOJnQsEQh43epgi8Up",
      "include_colab_link": true
    },
    "kernelspec": {
      "name": "python3",
      "display_name": "Python 3"
    },
    "language_info": {
      "name": "python"
    }
  },
  "cells": [
    {
      "cell_type": "markdown",
      "metadata": {
        "id": "view-in-github",
        "colab_type": "text"
      },
      "source": [
        "<a href=\"https://colab.research.google.com/github/aplum004/CSC221_aplum004/blob/main/Assignment26_28.ipynb\" target=\"_parent\"><img src=\"https://colab.research.google.com/assets/colab-badge.svg\" alt=\"Open In Colab\"/></a>"
      ]
    },
    {
      "cell_type": "code",
      "execution_count": 31,
      "metadata": {
        "colab": {
          "base_uri": "https://localhost:8080/",
          "height": 245
        },
        "id": "SI2FcSduvMlO",
        "outputId": "c39c3664-118e-4692-9897-e7fbf89e679d"
      },
      "outputs": [
        {
          "output_type": "error",
          "ename": "TypeError",
          "evalue": "ignored",
          "traceback": [
            "\u001b[0;31m---------------------------------------------------------------------------\u001b[0m",
            "\u001b[0;31mTypeError\u001b[0m                                 Traceback (most recent call last)",
            "\u001b[0;32m<ipython-input-31-eec261305e5d>\u001b[0m in \u001b[0;36m<cell line: 6>\u001b[0;34m()\u001b[0m\n\u001b[1;32m      4\u001b[0m \u001b[0mc\u001b[0m \u001b[0;34m=\u001b[0m \u001b[0;34m'teststring'\u001b[0m\u001b[0;34m\u001b[0m\u001b[0;34m\u001b[0m\u001b[0m\n\u001b[1;32m      5\u001b[0m \u001b[0;34m\u001b[0m\u001b[0m\n\u001b[0;32m----> 6\u001b[0;31m \u001b[0mprint\u001b[0m\u001b[0;34m(\u001b[0m\u001b[0mtype\u001b[0m\u001b[0;34m(\u001b[0m\u001b[0ma\u001b[0m\u001b[0;34m)\u001b[0m\u001b[0;34m,\u001b[0m \u001b[0ma\u001b[0m \u001b[0;34m+\u001b[0m \u001b[0;36m7\u001b[0m\u001b[0;34m)\u001b[0m\u001b[0;34m\u001b[0m\u001b[0;34m\u001b[0m\u001b[0m\n\u001b[0m\u001b[1;32m      7\u001b[0m \u001b[0mprint\u001b[0m\u001b[0;34m(\u001b[0m\u001b[0mtype\u001b[0m\u001b[0;34m(\u001b[0m\u001b[0mb\u001b[0m\u001b[0;34m)\u001b[0m\u001b[0;34m,\u001b[0m \u001b[0mb\u001b[0m\u001b[0;34m,\u001b[0m \u001b[0mb\u001b[0m\u001b[0;34m*\u001b[0m\u001b[0;36m5\u001b[0m\u001b[0;34m)\u001b[0m\u001b[0;34m\u001b[0m\u001b[0;34m\u001b[0m\u001b[0m\n\u001b[1;32m      8\u001b[0m \u001b[0mprint\u001b[0m\u001b[0;34m(\u001b[0m\u001b[0mtype\u001b[0m\u001b[0;34m(\u001b[0m\u001b[0mc\u001b[0m\u001b[0;34m)\u001b[0m\u001b[0;34m,\u001b[0m \u001b[0mc\u001b[0m\u001b[0;34m,\u001b[0m \u001b[0mc\u001b[0m\u001b[0;34m*\u001b[0m\u001b[0;36m5\u001b[0m\u001b[0;34m)\u001b[0m\u001b[0;34m\u001b[0m\u001b[0;34m\u001b[0m\u001b[0m\n",
            "\u001b[0;31mTypeError\u001b[0m: 'tuple' object is not callable"
          ]
        }
      ],
      "source": [
        "#Cell 1: Demonstrate int, float, and string\n",
        "a = 13\n",
        "b = 21.63677436\n",
        "c = 'teststring'\n",
        "\n",
        "print(type(a), a + 7)\n",
        "print(type(b), b, b*5)\n",
        "print(type(c), c, c*5)"
      ]
    },
    {
      "cell_type": "code",
      "source": [
        "#Cell 2: Show how an f-string works (f'Something like this with {something} in it.')\n",
        "print(f'The variable a is (a) and c*5 is t{c*5}')"
      ],
      "metadata": {
        "colab": {
          "base_uri": "https://localhost:8080/",
          "height": 193
        },
        "id": "jhjlHvJrvzUY",
        "outputId": "5c03626e-35a1-41ca-a634-83fea97af953"
      },
      "execution_count": 30,
      "outputs": [
        {
          "output_type": "error",
          "ename": "TypeError",
          "evalue": "ignored",
          "traceback": [
            "\u001b[0;31m---------------------------------------------------------------------------\u001b[0m",
            "\u001b[0;31mTypeError\u001b[0m                                 Traceback (most recent call last)",
            "\u001b[0;32m<ipython-input-30-5ee4acea5cf7>\u001b[0m in \u001b[0;36m<cell line: 2>\u001b[0;34m()\u001b[0m\n\u001b[1;32m      1\u001b[0m \u001b[0;31m#Cell 2: Show how an f-string works (f'Something like this with {something} in it.')\u001b[0m\u001b[0;34m\u001b[0m\u001b[0;34m\u001b[0m\u001b[0m\n\u001b[0;32m----> 2\u001b[0;31m \u001b[0mprint\u001b[0m\u001b[0;34m(\u001b[0m\u001b[0;34mf'The variable a is (a) and c*5 is t{c*5}'\u001b[0m\u001b[0;34m)\u001b[0m\u001b[0;34m\u001b[0m\u001b[0;34m\u001b[0m\u001b[0m\n\u001b[0m",
            "\u001b[0;31mTypeError\u001b[0m: 'tuple' object is not callable"
          ]
        }
      ]
    },
    {
      "cell_type": "code",
      "source": [
        "#Cell 3: Demonstrate some methods of the string class\n",
        "name = 'George Jetson'\n",
        "print(name, name.title())\n",
        "upper = name.upper()\n",
        "print(upper)"
      ],
      "metadata": {
        "id": "LO2pVKQ3wi8Y"
      },
      "execution_count": null,
      "outputs": []
    },
    {
      "cell_type": "code",
      "source": [
        "#Cell 4: Do something with a list\n",
        "abc = [6, 8, 56, 134]\n",
        "print(abc)\n",
        "for x in sorted (abc):\n",
        "  print(x)\n",
        "\n",
        "print(f'Min: {min(abc)}')\n",
        "print('Max: 'str(max(abc)))\n",
        "print(sum(abc))"
      ],
      "metadata": {
        "id": "5pyVZtjnw1ee"
      },
      "execution_count": null,
      "outputs": []
    },
    {
      "cell_type": "code",
      "source": [
        "#Cell 5: Do something with a list of lists\n",
        "xyz = []\n",
        "xyz.append([4, 8, 93])\n",
        "xyz.append([23, 'bfhd'])\n",
        "\n",
        "print(xyz)\n",
        "xyz2 = [[4,8,93],[8,5],[23, 'djnd']]\n",
        "print(xyz2)"
      ],
      "metadata": {
        "id": "BcI_IeTixzIM"
      },
      "execution_count": null,
      "outputs": []
    },
    {
      "cell_type": "code",
      "source": [
        "#Cell 6: Show how to print a list in sorted order without changing it.\n",
        "abc = [4, 23, 234, 1]\n",
        "\n",
        "abc.sort()\n",
        "print(abc)\n",
        "\n",
        "#Or\n",
        "\n",
        "abc = [4, 23, 234, 1]\n",
        "print(sorted(abc))\n",
        "print(abc)"
      ],
      "metadata": {
        "id": "5nDh3o8fyZEs"
      },
      "execution_count": null,
      "outputs": []
    },
    {
      "cell_type": "code",
      "source": [
        "#Cell 7: Printing a series of numbers using for and range\n",
        "def f1():\n",
        "  for x in range(5,400, 76):\n",
        "    print(x, end='')\n",
        "f1()"
      ],
      "metadata": {
        "id": "PzOC08iKzBAb"
      },
      "execution_count": null,
      "outputs": []
    },
    {
      "cell_type": "code",
      "source": [
        "#Cell 8: Printing a series of squares of all numbers from 1 to 1000 that are not multiples of 7 using list comprehension.\n",
        "print([x*x for x in range(1,1000)if x%7 !=0])"
      ],
      "metadata": {
        "id": "IvfzpvRnzBJl"
      },
      "execution_count": null,
      "outputs": []
    },
    {
      "cell_type": "code",
      "source": [
        "#Cell 9: Generating all of the prime numbers from 2 to 1000 using the Sieve of Eratosthenes which I suggest you ask ChatGPT for help on.\n",
        "def sieve_of_eratosthenes(limit):\n",
        "    primes = []\n",
        "    is_prime = [True] * (limit + 1)\n",
        "    is_prime[0] = is_prime[1] = False\n",
        "\n",
        "    for num in range(2, int(limit**0.5) + 1):\n",
        "        if is_prime[num]:\n",
        "            primes.append(num)\n",
        "            for multiple in range(num*num, limit + 1, num):\n",
        "                is_prime[multiple] = False\n",
        "\n",
        "    for num in range(int(limit**0.5) + 1, limit + 1):\n",
        "        if is_prime[num]:\n",
        "            primes.append(num)\n",
        "\n",
        "    return primes\n",
        "\n",
        "# Example usage:\n",
        "limit = 5000\n",
        "result = sieve_of_eratosthenes(limit)\n",
        "print(result)\n"
      ],
      "metadata": {
        "id": "Wj4HyVzJzBNH"
      },
      "execution_count": null,
      "outputs": []
    },
    {
      "cell_type": "code",
      "source": [
        "#Cell 10: Create a generator from your function above that you can use to print the first N prime numbers. This should look like:\n",
        "def my_prime_generator(N):\n",
        "  primes = sieve_of_eratosthenes(N)\n",
        "  for x in primes:\n",
        "    yield x\n",
        "\n",
        "for x in my_prime_generator(200):\n",
        "  print(x, end='')\n"
      ],
      "metadata": {
        "id": "ILe9ZJYizBQ5"
      },
      "execution_count": null,
      "outputs": []
    },
    {
      "cell_type": "code",
      "source": [
        "#Cell 11: Generate 1000 random integers in a list (random.randint(...)) and print their min, max, sum, and average.\n",
        "import random\n",
        "\n",
        "random_integers = [random.randint(1, 100) for _ in range(1000)]\n",
        "\n",
        "\n",
        "min_value = min(random_integers)\n",
        "max_value = max(random_integers)\n",
        "sum_value = sum(random_integers)\n",
        "average_value = sum_value / len(random_integers)\n",
        "\n",
        "print(f\"Min: {min_value}\")\n",
        "print(f\"Max: {max_value}\")\n",
        "print(f\"Sum: {sum_value}\")\n",
        "print(f\"Average: {average_value}\")\n"
      ],
      "metadata": {
        "id": "7UDn-Ck5zBcf"
      },
      "execution_count": null,
      "outputs": []
    },
    {
      "cell_type": "code",
      "source": [
        "#Cell 12: Write a simple function that uses if, elif, and else and show that it works.\n",
        "\n",
        "def NumberTing(number):\n",
        "    if number > 0:\n",
        "        return \"Wow people\"\n",
        "    elif number == 30:\n",
        "        return \"Hola\"\n",
        "    elif number < 9:\n",
        "        return \"Tiny\"\n",
        "    else:\n",
        "        return \"You did it\"\n",
        "\n",
        "test_num = 45\n",
        "result = NumberTing(test_num)\n",
        "\n",
        "print(result)\n"
      ],
      "metadata": {
        "id": "apzGFbLY16k5"
      },
      "execution_count": null,
      "outputs": []
    },
    {
      "cell_type": "code",
      "source": [
        "#Cell 13: Show me three things from PEP-8 that surprise you\n"
      ],
      "metadata": {
        "id": "2j22gHr119Ds"
      },
      "execution_count": null,
      "outputs": []
    },
    {
      "cell_type": "code",
      "source": [
        "#Cell 14: Create a file using %%file testfile.txt in Colab. The file should contain lines like the following:\n"
      ],
      "metadata": {
        "id": "UCEQ8nDL19Hb"
      },
      "execution_count": null,
      "outputs": []
    },
    {
      "cell_type": "code",
      "source": [
        "%%file testfile.txt\n",
        "Amy, cat\n",
        "Fred, dog\n",
        "Hunter, dog\n",
        "Peena, parakeet\n",
        "Rover, dog"
      ],
      "metadata": {
        "id": "RuN4YIPx2IOq"
      },
      "execution_count": null,
      "outputs": []
    },
    {
      "cell_type": "code",
      "source": [
        "#Cell 15: Read that file in and convert it to a dictionary. Show how you can lookup pet type by using pet name with your dictionary.\n",
        "dict1 = {}\n",
        "with open('testfile.txt', 'r') as file:\n",
        "  while line := file.readline():\n",
        "    line = line.strip()\n",
        "    key, value = line.split(',')\n",
        "    dict1[key]= value.strip()\n",
        "print(dict1)"
      ],
      "metadata": {
        "id": "kOGFT0_u19LE"
      },
      "execution_count": null,
      "outputs": []
    },
    {
      "cell_type": "code",
      "source": [
        "#Cell 16: Generate a list of all the unique pet types in the dictionary. Use a set to make this happen.\n",
        "print(dict1.values())\n",
        "pet_types = set(dict1.values())\n",
        "print(pet_types)"
      ],
      "metadata": {
        "id": "QI2HHEx126NB"
      },
      "execution_count": null,
      "outputs": []
    },
    {
      "cell_type": "code",
      "source": [
        "#Cell 17: Use a while loop to print the numbers from 80 down to 16 by 8. Do not use for or range.\n",
        "n = 80\n",
        "while n >= 16:\n",
        "  print(n)\n",
        "  n -= 8"
      ],
      "metadata": {
        "id": "B6W32vL53T7A"
      },
      "execution_count": null,
      "outputs": []
    },
    {
      "cell_type": "code",
      "source": [
        "#Cell 18: Write a function that takes three numbers and returns their min, max, and sum as a tuple.\n",
        "def f1 (n1, n2, n3):\n",
        "  max_n = max(n1, n2, n3)\n",
        "  min_n = min(n1, n2, n3)\n",
        "  sum_n = sum([n1, n2, n3])\n",
        "\n",
        "  return min_n, max_n, sum_n\n",
        "\n",
        "print(f1(34,78,4))"
      ],
      "metadata": {
        "id": "OLfZBFtx3k1u"
      },
      "execution_count": null,
      "outputs": []
    },
    {
      "cell_type": "code",
      "source": [
        "#Cell 19: Write a function that takes any number of numbers and returns their min, max, and sum as a tuple.\n",
        "def f2(*n):\n",
        "  max_n = max(n)\n",
        "  min_n = min(n)\n",
        "  sum_n = sum(n)\n",
        "\n",
        "  return max_n, min_n, sum_n"
      ],
      "metadata": {
        "id": "N8OPMzjk4HHi"
      },
      "execution_count": null,
      "outputs": []
    },
    {
      "cell_type": "code",
      "source": [
        "#Cell 20: Create a decorator called traceroo and use it to print messages showing how your function above executes.\n",
        "def traceroo(func):\n",
        "  def newfunc(*args, **kwargs):\n",
        "    print(f'TRACEROO{func.__name__}{args}{kwargs}')\n",
        "    return func (*args, **kwargs)\n",
        "  return newfunc\n",
        "\n",
        "f1d = traceroo(f1)\n",
        "print = (f1(3, 2, 1))\n",
        "print = (f1d(3,2,1))\n",
        "\n",
        "@traceroo\n",
        "def f4():\n",
        "    print(\"Hi...Im f4\")\n",
        "\n",
        "f4()"
      ],
      "metadata": {
        "id": "bYqEN4_O4j7d"
      },
      "execution_count": null,
      "outputs": []
    },
    {
      "cell_type": "code",
      "source": [
        "%%file function.py\n",
        "def f5(a):\n",
        "  print(a+5)\n"
      ],
      "metadata": {
        "id": "PbBNQLYJ5qG8"
      },
      "execution_count": null,
      "outputs": []
    },
    {
      "cell_type": "code",
      "source": [
        "%%file test_functions.py\n",
        "import functions as ff\n",
        "\n",
        "def test_test1():\n",
        "  assert ff.f5(5) == 5+5"
      ],
      "metadata": {
        "id": "IksQ3ttk537F"
      },
      "execution_count": null,
      "outputs": []
    },
    {
      "cell_type": "code",
      "source": [
        "!pytest"
      ],
      "metadata": {
        "id": "S42z71TJ6Zfz"
      },
      "execution_count": null,
      "outputs": []
    },
    {
      "cell_type": "code",
      "source": [
        "#Cell 21: Create a class that uses __init__, __repr__, __str__, and __add__. Demonstrate that all of the methods work.\n",
        "class Book():\n",
        "  def __init__(self, title, pages, author):\n",
        "      self.title = title\n",
        "      self.author = author\n",
        "      self.pages = pages\n",
        "\n",
        "  def __repr__(self):\n",
        "    return (self.title, self.author, self.pages)\n",
        "\n",
        "  def __str__(self):\n",
        "    return f'{self.title} by {self.author} {self.pages}'\n",
        "\n",
        "  def __add__(self, other):\n",
        "    if isinstance(other, Book):\n",
        "      return Book(f'{self.title} and {other.title}', f'{self.author} and {other.author}', self.pages + other.pages)\n",
        "\n",
        "book1 = Book(\"The Hunger Games\", \"Suzanne Colliens\", 384)\n",
        "book2 = Book(\"The Lightening Theif\", \"Rick Riordan\", 377)\n",
        "\n",
        "print(repr(book1))\n",
        "print(str(book1))\n",
        "\n",
        "result = book1 + book2\n",
        "print(repr(result))"
      ],
      "metadata": {
        "id": "Ha9KcQfk9HuF"
      },
      "execution_count": null,
      "outputs": []
    },
    {
      "cell_type": "code",
      "source": [
        "\n",
        "%%file pi_million_digits.txt\n",
        "3.141592653589793238462643383279"
      ],
      "metadata": {
        "id": "DO0PBW1m-2w4"
      },
      "execution_count": null,
      "outputs": []
    },
    {
      "cell_type": "code",
      "source": [
        "#Cell 22: Is your birth date included in the digits of pi? Where? Feel free to use the code from Chapter 10.\n",
        "filename = 'pi_million_digits.txt'\n",
        "\n",
        "with open(filename) as file_object:\n",
        "  lines = file_object.readlines()\n",
        "\n",
        "pi_string = ''\n",
        "for line in lines:\n",
        "  pi_string += line.strip()\n",
        "\n",
        "birthday = input(\"Enter your birthday, in the form mmddyy: \")\n",
        "if birthday in pi_string:\n",
        "  print(\"Your birthday appears in the first million digits of pi!\")\n",
        "else:\n",
        "  print(\"Your birthday does not appear in the first million digits of pi.\")"
      ],
      "metadata": {
        "id": "AJUt44iq9Wu2"
      },
      "execution_count": null,
      "outputs": []
    }
  ]
}