{
  "nbformat": 4,
  "nbformat_minor": 0,
  "metadata": {
    "colab": {
      "provenance": [],
      "authorship_tag": "ABX9TyP+skNWf72kMZ8LHpYHt8R4",
      "include_colab_link": true
    },
    "kernelspec": {
      "name": "python3",
      "display_name": "Python 3"
    },
    "language_info": {
      "name": "python"
    }
  },
  "cells": [
    {
      "cell_type": "markdown",
      "metadata": {
        "id": "view-in-github",
        "colab_type": "text"
      },
      "source": [
        "<a href=\"https://colab.research.google.com/github/aplum004/CSC221_aplum004/blob/main/assignment3.ipynb\" target=\"_parent\"><img src=\"https://colab.research.google.com/assets/colab-badge.svg\" alt=\"Open In Colab\"/></a>"
      ]
    },
    {
      "cell_type": "code",
      "execution_count": 2,
      "metadata": {
        "colab": {
          "base_uri": "https://localhost:8080/"
        },
        "id": "PjJDqv2OWh7O",
        "outputId": "5eac5f17-4826-4178-c460-970ac5a5f523"
      },
      "outputs": [
        {
          "output_type": "stream",
          "name": "stdout",
          "text": [
            "Hello Everyone\n"
          ]
        }
      ],
      "source": [
        "message = \"Hello Everyone\"\n",
        "print(message)"
      ]
    },
    {
      "cell_type": "code",
      "source": [
        "message = \"Hello people\"\n",
        "print(message)\n",
        "\n",
        "message = \"Hello Cats\"\n",
        "print(message)"
      ],
      "metadata": {
        "colab": {
          "base_uri": "https://localhost:8080/"
        },
        "id": "ge27jvxBIAdj",
        "outputId": "6c270853-0234-43b3-dbda-16a19353ad96"
      },
      "execution_count": 4,
      "outputs": [
        {
          "output_type": "stream",
          "name": "stdout",
          "text": [
            "Hello people\n",
            "Hello Cats\n"
          ]
        }
      ]
    },
    {
      "cell_type": "code",
      "source": [
        "name = \"Amelia\"\n",
        "print(\"Hello \" + name + \" , How was your day\")"
      ],
      "metadata": {
        "colab": {
          "base_uri": "https://localhost:8080/"
        },
        "id": "OjkUCyQHKDcF",
        "outputId": "f2aff3ea-e304-4225-e7d3-6916519bd33f"
      },
      "execution_count": 7,
      "outputs": [
        {
          "output_type": "stream",
          "name": "stdout",
          "text": [
            "Hello Amelia , How was your day\n"
          ]
        }
      ]
    },
    {
      "cell_type": "code",
      "source": [
        "name = \"Amelia\"\n",
        "print(name.upper())\n",
        "print(name.lower())\n",
        "print(name.title())"
      ],
      "metadata": {
        "colab": {
          "base_uri": "https://localhost:8080/"
        },
        "id": "ABQu-_veKhlo",
        "outputId": "307fba95-e50f-48b7-ca40-26b6ea9b7c19"
      },
      "execution_count": 11,
      "outputs": [
        {
          "output_type": "stream",
          "name": "stdout",
          "text": [
            "AMELIA\n",
            "amelia\n",
            "Amelia\n"
          ]
        }
      ]
    },
    {
      "cell_type": "code",
      "source": [
        "author = \"Helena Bonham Carter\"\n",
        "quote ='\"I love those that are fighting to keep sane, and I love those that are insane even better\"'\n",
        "print(author.title() + \" once said \" + quote)"
      ],
      "metadata": {
        "colab": {
          "base_uri": "https://localhost:8080/"
        },
        "id": "hrLiX9SgK_HE",
        "outputId": "a862f6d3-62f2-4152-e0ad-151ca67a8415"
      },
      "execution_count": 14,
      "outputs": [
        {
          "output_type": "stream",
          "name": "stdout",
          "text": [
            "Helena Bonham Carter once said \"I love those that are fighting to keep sane, and I love those that are insane even better\"\n"
          ]
        }
      ]
    },
    {
      "cell_type": "code",
      "source": [
        "#Creating a message by concation using variables\n",
        "famous_person = \"Helena Bonham Carter\"\n",
        "message = famous_person + ' once said, \"I love those that are fighting to keep sane, and I love those that are insane even better \"'\n",
        "print(message)"
      ],
      "metadata": {
        "colab": {
          "base_uri": "https://localhost:8080/"
        },
        "id": "4rXj2EK3O02I",
        "outputId": "19512c2a-cbe0-4ca5-b412-c5d84b8526f4"
      },
      "execution_count": 18,
      "outputs": [
        {
          "output_type": "stream",
          "name": "stdout",
          "text": [
            "Helena Bonham Carter once said, \"I love those that are fighting to keep sane, and I love those that are insane even better \"\n"
          ]
        }
      ]
    },
    {
      "cell_type": "code",
      "source": [
        "name = \"\\t\\nAmelia\"\n",
        "print(name)\n",
        "print(name.lstrip())\n",
        "print(name.rstrip())\n",
        "print(name.strip())"
      ],
      "metadata": {
        "colab": {
          "base_uri": "https://localhost:8080/"
        },
        "id": "9CitK4wgPxN1",
        "outputId": "ddddf0bd-3762-4f34-f927-2a4e28851fce"
      },
      "execution_count": 21,
      "outputs": [
        {
          "output_type": "stream",
          "name": "stdout",
          "text": [
            "\t\n",
            "Amelia\n",
            "Amelia\n",
            "\t\n",
            "Amelia\n",
            "Amelia\n"
          ]
        }
      ]
    },
    {
      "cell_type": "code",
      "source": [
        "#Program using different math operations to get the number 8\n",
        "print(5 + 3)\n",
        "print(2 * 4)\n",
        "print(16 / 2)\n",
        "print(10 - 2)"
      ],
      "metadata": {
        "colab": {
          "base_uri": "https://localhost:8080/"
        },
        "id": "ld587z-sSiyY",
        "outputId": "2fcf70a0-8c9c-4d4d-ae1c-3f526673579b"
      },
      "execution_count": 28,
      "outputs": [
        {
          "output_type": "stream",
          "name": "stdout",
          "text": [
            "8\n",
            "8\n",
            "8.0\n",
            "8\n"
          ]
        }
      ]
    },
    {
      "cell_type": "code",
      "source": [
        "fav_num = 8\n",
        "message = \"My fav number is \" + str(fav_num)\n",
        "print(message)"
      ],
      "metadata": {
        "colab": {
          "base_uri": "https://localhost:8080/"
        },
        "id": "1pnSh3iBS1qQ",
        "outputId": "51ba5821-e16c-4ba8-9793-496acb18e5cf"
      },
      "execution_count": 27,
      "outputs": [
        {
          "output_type": "stream",
          "name": "stdout",
          "text": [
            "My fav number is 8\n"
          ]
        }
      ]
    },
    {
      "cell_type": "code",
      "source": [
        "import this"
      ],
      "metadata": {
        "colab": {
          "base_uri": "https://localhost:8080/"
        },
        "id": "IioByTSJTtNQ",
        "outputId": "cc9d36f6-0904-4464-b1c8-0dd64d5c0116"
      },
      "execution_count": 29,
      "outputs": [
        {
          "output_type": "stream",
          "name": "stdout",
          "text": [
            "The Zen of Python, by Tim Peters\n",
            "\n",
            "Beautiful is better than ugly.\n",
            "Explicit is better than implicit.\n",
            "Simple is better than complex.\n",
            "Complex is better than complicated.\n",
            "Flat is better than nested.\n",
            "Sparse is better than dense.\n",
            "Readability counts.\n",
            "Special cases aren't special enough to break the rules.\n",
            "Although practicality beats purity.\n",
            "Errors should never pass silently.\n",
            "Unless explicitly silenced.\n",
            "In the face of ambiguity, refuse the temptation to guess.\n",
            "There should be one-- and preferably only one --obvious way to do it.\n",
            "Although that way may not be obvious at first unless you're Dutch.\n",
            "Now is better than never.\n",
            "Although never is often better than *right* now.\n",
            "If the implementation is hard to explain, it's a bad idea.\n",
            "If the implementation is easy to explain, it may be a good idea.\n",
            "Namespaces are one honking great idea -- let's do more of those!\n"
          ]
        }
      ]
    }
  ]
}