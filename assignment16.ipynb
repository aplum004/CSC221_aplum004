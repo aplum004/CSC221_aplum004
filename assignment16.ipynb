{
  "nbformat": 4,
  "nbformat_minor": 0,
  "metadata": {
    "colab": {
      "provenance": [],
      "authorship_tag": "ABX9TyOqOku77zJdUUX5jRM2epeE",
      "include_colab_link": true
    },
    "kernelspec": {
      "name": "python3",
      "display_name": "Python 3"
    },
    "language_info": {
      "name": "python"
    }
  },
  "cells": [
    {
      "cell_type": "markdown",
      "metadata": {
        "id": "view-in-github",
        "colab_type": "text"
      },
      "source": [
        "<a href=\"https://colab.research.google.com/github/aplum004/CSC221_aplum004/blob/main/assignment16.ipynb\" target=\"_parent\"><img src=\"https://colab.research.google.com/assets/colab-badge.svg\" alt=\"Open In Colab\"/></a>"
      ]
    },
    {
      "cell_type": "code",
      "execution_count": null,
      "metadata": {
        "colab": {
          "base_uri": "https://localhost:8080/"
        },
        "id": "p_omhzR80OrE",
        "outputId": "b05e9224-48b7-473b-85b6-918a87eef624"
      },
      "outputs": [
        {
          "output_type": "stream",
          "name": "stdout",
          "text": [
            "Hello World\n"
          ]
        }
      ],
      "source": [
        "#1.1\n",
        "#interactive python, which allows you to type programs for an output\n",
        "print('Hello World')"
      ]
    },
    {
      "cell_type": "code",
      "source": [
        "#1.2\n",
        "#running python programs can be done through an interperator by providing the .py file name\n",
        "# hello.py\n",
        "print('Hello World')"
      ],
      "metadata": {
        "id": "9eM6RSjX-Hd2"
      },
      "execution_count": null,
      "outputs": []
    },
    {
      "cell_type": "code",
      "source": [
        "#1.3\n",
        "#Primative types are integers, floats and strings\n",
        "#Variables are used to assigns vaules\n",
        "#With variables, primatives and operators you can create experessions\n",
        "def sum(a, b=3.14):\n",
        "  x = a + b\n",
        "  sorted_num = sorted([a, b])\n",
        "  return x, sorted_num\n",
        "  print(\"Sum equals: \")\n",
        "sum(4,5)\n",
        "sum(4)\n"
      ],
      "metadata": {
        "id": "9oZE83O0SDuP"
      },
      "execution_count": null,
      "outputs": []
    },
    {
      "cell_type": "code",
      "source": [
        "#1.4\n",
        "#Mathmatical Operators which only work with floats and integers\n",
        "x = 9\n",
        "y = 54\n",
        "x // y\n",
        "#You sre able to use binary for inter values\n",
        "a = 0b11001001\n",
        "#Comparison Operators use Boolen values of True and False"
      ],
      "metadata": {
        "colab": {
          "base_uri": "https://localhost:8080/"
        },
        "id": "z0BVLobrX1GE",
        "outputId": "3f6a5e8f-04f4-44ae-e7d6-370c5011276e"
      },
      "execution_count": null,
      "outputs": [
        {
          "output_type": "execute_result",
          "data": {
            "text/plain": [
              "0"
            ]
          },
          "metadata": {},
          "execution_count": 4
        }
      ]
    },
    {
      "cell_type": "code",
      "source": [
        "#1.5\n",
        "#If, while, and else statements , conditional statements\n",
        "if a < b:\n",
        "  print('Beautiful ')\n",
        "else:\n",
        "  print('Ugly')"
      ],
      "metadata": {
        "id": "lMHQRe87riJd"
      },
      "execution_count": null,
      "outputs": []
    },
    {
      "cell_type": "code",
      "source": [
        "#1.6\n",
        "#Text Strings which use single, double, or triple quotes\n",
        "#string various methods to manipulate their contents\n",
        "#such as slicing, replace(), format(), lower(), split\n",
        "a = 'good job'\n",
        "b = a[2:7]\n",
        "print(b)\n",
        "#str() and repr() create strings but gives different values\n",
        "s = 'hello world'\n",
        "print(str(s))\n",
        "print(repr(s))"
      ],
      "metadata": {
        "id": "d9WmYJt1tD6x",
        "colab": {
          "base_uri": "https://localhost:8080/"
        },
        "outputId": "e6e20b45-7970-41a2-e43a-351abe4d84d2"
      },
      "execution_count": null,
      "outputs": [
        {
          "output_type": "stream",
          "name": "stdout",
          "text": [
            "od jo\n",
            "hello world\n",
            "'hello world'\n"
          ]
        }
      ]
    },
    {
      "cell_type": "code",
      "source": [
        "#1.7\n",
        "#File Input and Output\n",
        "#with statements declares a block of statements and then the file automatically closes after\n",
        "# := operator is another way to break\n",
        "#“print(f'{year:>3d} {principal:0.2f}', file=out) = “out.write(f'{year:3d} {principal:0.2f}\\n')”\n"
      ],
      "metadata": {
        "id": "Rk3PuBuBtTRA"
      },
      "execution_count": null,
      "outputs": []
    },
    {
      "cell_type": "code",
      "source": [
        "#1.8 Lists\n",
        "names = ['Christian', 'Amelia', 'Clowe', 'Akeilah']\n",
        "#Lists are an collection of arbitrary objects that use the methods, including other lists\n",
        "#append(), insert(), slicing, concatenation\n",
        "names.append('Aisha')\n",
        "for name in names:\n",
        "  print(name)"
      ],
      "metadata": {
        "id": "WqziZn8BtvfW",
        "colab": {
          "base_uri": "https://localhost:8080/"
        },
        "outputId": "92c7845e-2473-4a37-c41f-7973cfb95765"
      },
      "execution_count": null,
      "outputs": [
        {
          "output_type": "stream",
          "name": "stdout",
          "text": [
            "Christian\n",
            "Amelia\n",
            "Clowe\n",
            "Akeilah\n",
            "Aisha\n"
          ]
        }
      ]
    },
    {
      "cell_type": "code",
      "source": [
        "#1.9 Tuples\n",
        "#A collection of values in paretheses\n",
        "#Supports operations like indexing, slicing, and concatenation\n",
        "#but cannot be changed after creation, like append, replace, delete methods\n",
        "animals = ('sheep', 'dog','cat')"
      ],
      "metadata": {
        "id": "-Mf9BnYatviP"
      },
      "execution_count": null,
      "outputs": []
    },
    {
      "cell_type": "code",
      "source": [
        "#1.10 Sets\n",
        "#Sets are used to find distinct values, can make a set of numbers, strings and tuples but not lists\n",
        "names1 = {'IBM','MSFT', 'AA'}"
      ],
      "metadata": {
        "id": "P187o-MXtvzT"
      },
      "execution_count": null,
      "outputs": []
    },
    {
      "cell_type": "code",
      "source": [
        "#1.11 Dictionaries\n",
        "stores = {\n",
        "    'Ross' : 'NY',\n",
        "    'Macy' : 'New Orleans',\n",
        "    'Tj Maxx' : 'Miami'\n",
        "}\n",
        "#commonly used to perform fast lookups on unodered data\n",
        "s = stores.get('Ross', 0.0) #get method can be used to see if the info in dic exists\n",
        "#Dictionaries will preserve the input order unless there were multiple deletions and insertions"
      ],
      "metadata": {
        "id": "_Ul_2qz40grF"
      },
      "execution_count": null,
      "outputs": []
    },
    {
      "cell_type": "code",
      "source": [
        "#1.12 Iteration and Looping\n",
        "for n in range(1,10):\n",
        "  print(f'2 to the {n} power is {2**n}')\n",
        "#range function does a range of values from the first value but not including the last\n",
        "#for loop can be used for strings, lists, dic, files and int\n",
        "#can be used to create iterator objects and genertor functions"
      ],
      "metadata": {
        "colab": {
          "base_uri": "https://localhost:8080/"
        },
        "id": "YG5SWY4M0hRF",
        "outputId": "2ac023f7-91eb-44b9-f6dd-ac648ac0ea71"
      },
      "execution_count": null,
      "outputs": [
        {
          "output_type": "stream",
          "name": "stdout",
          "text": [
            "2 to the 1 power is 2\n",
            "2 to the 2 power is 4\n",
            "2 to the 3 power is 8\n",
            "2 to the 4 power is 16\n",
            "2 to the 5 power is 32\n",
            "2 to the 6 power is 64\n",
            "2 to the 7 power is 128\n",
            "2 to the 8 power is 256\n",
            "2 to the 9 power is 512\n"
          ]
        }
      ]
    },
    {
      "cell_type": "code",
      "source": [
        "#1.13 Functions\n",
        "#def statements are used to define fucntions\n",
        "def remainder(a,b):\n",
        "  q = a // b\n",
        "  r = a - q * b\n",
        "  return r\n",
        "#can assign deafault values to parameter, best to use keyword agruments"
      ],
      "metadata": {
        "id": "o78NxCnO0hUM"
      },
      "execution_count": null,
      "outputs": []
    },
    {
      "cell_type": "code",
      "source": [
        "#1.14 Exceptions\n",
        "#when there are errors, a traceback message indicates the error and location\n",
        "#try and except methods can catch and handle exceptions\n",
        "try:\n",
        " print(5/0)\n",
        "except ZeroDivisionError:\n",
        " print(\"You can't divide by zero!\")\n",
        " #raise statement is used to signal exception\n",
        " #try and finally is used when the actions must be performed no mater the exceptions"
      ],
      "metadata": {
        "colab": {
          "base_uri": "https://localhost:8080/"
        },
        "id": "H45BPgbM0hW_",
        "outputId": "6c0e3d3e-3c1f-404b-d25e-7df331771a88"
      },
      "execution_count": null,
      "outputs": [
        {
          "output_type": "stream",
          "name": "stdout",
          "text": [
            "You can't divide by zero!\n"
          ]
        }
      ]
    },
    {
      "cell_type": "code",
      "source": [
        "#1.15  Program Termination\n",
        "#A program is terminated when itis done excuting staements or forced quit\n",
        "'''\n",
        "raise SystemExit()\n",
        "error message\n",
        "raise SystemExit(\"Something is wrong\")\n",
        "'''"
      ],
      "metadata": {
        "colab": {
          "base_uri": "https://localhost:8080/",
          "height": 35
        },
        "id": "VoQo82pJ0haX",
        "outputId": "e385520e-b75e-41c5-de00-ee15ac402bab"
      },
      "execution_count": null,
      "outputs": [
        {
          "output_type": "execute_result",
          "data": {
            "text/plain": [
              "'\\nraise SystemExit()\\nerror message\\nraise SystemExit(\"Something is wrong\")\\n'"
            ],
            "application/vnd.google.colaboratory.intrinsic+json": {
              "type": "string"
            }
          },
          "metadata": {},
          "execution_count": 7
        }
      ]
    },
    {
      "cell_type": "code",
      "source": [
        "#1.16 Objects and Class\n",
        "#Objects are internal data\n",
        "items =[37, 42]\n",
        "items.append(25)\n",
        "#methods for functions like dir(lists the methods avaiable), __add__ that implements the + operator\n",
        "dir(items)\n",
        "#class statement is for object oriented programming\n",
        "class Stock:\n",
        "  def __init__(self): #storing stack data\n",
        "    self.items = []\n",
        "  def push (self, item):\n",
        "    self._items.append(item)\n",
        "#first agrument is each method refers to the object itself, self variable\n",
        "#always define __repr__() so it can simplify debugging\n",
        "#The use of push() and pop() is an inhertitance to change the behavior of an existing method\n",
        "#Not always the best solution, as somethings need a seperate class"
      ],
      "metadata": {
        "id": "omVr0Lpj0inJ"
      },
      "execution_count": null,
      "outputs": []
    },
    {
      "cell_type": "code",
      "source": [
        "#1.17 Modules\n",
        "#modules are files that can be used using the import statement\n",
        "import random\n",
        "#To import module under a different name, use optional qualifer\n",
        "'''\n",
        "import readport as rp\n",
        "'''\n",
        "#dir() functions can also list the contents of a module"
      ],
      "metadata": {
        "id": "yPPDFwuIH3js"
      },
      "execution_count": null,
      "outputs": []
    },
    {
      "cell_type": "code",
      "source": [
        "#1.18 Script Writing\n",
        "#s+cript code is enclosed with a conditional check\n",
        "if __name__ == '__main__':\n",
        "#name is a variable the contains the name of the module\n",
        "#main is if it the main script"
      ],
      "metadata": {
        "id": "rJTE5yo0H5YS"
      },
      "execution_count": null,
      "outputs": []
    },
    {
      "cell_type": "code",
      "source": [
        "#1.19 Packages\n",
        "#organizing your code into packages when it is large programs\n",
        "'''\n",
        "tutorial/\n",
        "__init__.py\n",
        "readport.py\n",
        "pcost.py\n",
        "stack.py\n",
        "'''\n",
        "#Imports between files within the same packages can cause an imprt statement to break\n",
        "#to fix this u can use a from statement\n",
        "'''\n",
        "from tutorial import readport\n",
        "'''"
      ],
      "metadata": {
        "id": "u99NxC-nH5fm"
      },
      "execution_count": null,
      "outputs": []
    },
    {
      "cell_type": "code",
      "source": [
        "#1.20 Structuring an Application\n",
        "#Standard pratice for directories of .py files that iclude __init__.py file\n",
        "#Main purpose for for package dir is to manage import statements and modules\n",
        "'''\n",
        "tutorial-projects/\n",
        "  tutorial/\n",
        "    __init__.py\n",
        "    readport.py\n",
        "    pcost.py\n",
        "    stack.py\n",
        "'''"
      ],
      "metadata": {
        "id": "jwgpvYPJH5lK"
      },
      "execution_count": null,
      "outputs": []
    },
    {
      "cell_type": "code",
      "source": [
        "#1.21 Managing Third Party Packages\n",
        "#To access pythons library of packages there is an Package Index\n",
        "#To instal use command, bash % python3 -m pip install somepackage\n",
        "# to kno whwere a package came from, inspect __file__ attribute\n",
        "'''\n",
        "import pandan\n",
        "pandas.__file__\n",
        "'''\n",
        "#to avoid breaking the package if you want to change the version of python\n",
        "#create virtual command, bash % python3 -m venv myproject\n",
        "#This allows for you to instal packages with your own interpreter\n"
      ],
      "metadata": {
        "id": "Drn_ZiqJH-Oh"
      },
      "execution_count": null,
      "outputs": []
    }
  ]
}